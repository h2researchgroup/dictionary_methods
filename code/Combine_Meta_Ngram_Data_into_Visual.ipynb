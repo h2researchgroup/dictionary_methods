{
 "cells": [
  {
   "cell_type": "markdown",
   "metadata": {},
   "source": [
    "\n",
    "# Script Title: Combine_Meta_Ngram_Data_Into_Visual.ipynb\n",
    "# Author: Rudy Venguswamy\n",
    "# Date: August 13, 2019"
   ]
  },
  {
   "cell_type": "markdown",
   "metadata": {},
   "source": [
    "## Purpose\n",
    "The goal of this script is to take in a file that contains metadata about every article and a file that contains all the n-gram counts of each article and turns this into a visual about trends in language over time. It joins the two files together on an article ID, and cleans them to remove article's who's metadata suggests the article is from before 1970 or after 2020. These errors could have occurred due to manual data entry errors by journal authors.\n",
    "\n",
    "Two cells down below you can see what each table contains in terms of data."
   ]
  },
  {
   "cell_type": "code",
   "execution_count": 1,
   "metadata": {},
   "outputs": [
    {
     "name": "stdout",
     "output_type": "stream",
     "text": [
      "Requirement already satisfied: tables in /opt/conda/lib/python3.7/site-packages (3.6.1)\r\n",
      "Requirement already satisfied: numpy>=1.9.3 in /opt/conda/lib/python3.7/site-packages (from tables) (1.15.4)\r\n",
      "Requirement already satisfied: numexpr>=2.6.2 in /opt/conda/lib/python3.7/site-packages (from tables) (2.6.9)\r\n"
     ]
    }
   ],
   "source": [
    "!pip install tables"
   ]
  },
  {
   "cell_type": "code",
   "execution_count": 2,
   "metadata": {},
   "outputs": [],
   "source": [
    "#Read in data\n",
    "import pandas as pd\n",
    "import os\n",
    "# !pip install tables\n",
    "# os.chdir('/home/jovyan/work/Computational-Analysis-For-Social-Science/Dictionary Mapping/N-Gram')\n",
    "metadata = pd.read_hdf('/home/jovyan/work/zekaifan/Dictionary Mapping/Pipe/metadata_combined.h5') #contains the metadata about each article\n",
    "# os.chdir('/home/jovyan/work/zekaifan/ngram_results/')\n",
    "ngram = pd.read_hdf('/home/jovyan/work/zekaifan/ngram_results/ngram_combined.h5') #contains the n-gram counts for each article\n",
    "lang = pd.read_hdf('/home/jovyan/work/zekaifan/lang_combined.h5')"
   ]
  },
  {
   "cell_type": "code",
   "execution_count": 3,
   "metadata": {},
   "outputs": [
    {
     "data": {
      "text/html": [
       "<div>\n",
       "<style scoped>\n",
       "    .dataframe tbody tr th:only-of-type {\n",
       "        vertical-align: middle;\n",
       "    }\n",
       "\n",
       "    .dataframe tbody tr th {\n",
       "        vertical-align: top;\n",
       "    }\n",
       "\n",
       "    .dataframe thead th {\n",
       "        text-align: right;\n",
       "    }\n",
       "</style>\n",
       "<table border=\"1\" class=\"dataframe\">\n",
       "  <thead>\n",
       "    <tr style=\"text-align: right;\">\n",
       "      <th></th>\n",
       "      <th>ngram_1_count</th>\n",
       "      <th>culture_1_count</th>\n",
       "      <th>demographic_1_count</th>\n",
       "      <th>relational_1_count</th>\n",
       "      <th>ngram_2_count</th>\n",
       "      <th>culture_2_count</th>\n",
       "      <th>demographic_2_count</th>\n",
       "      <th>relational_2_count</th>\n",
       "      <th>ngram_3_count</th>\n",
       "      <th>culture_3_count</th>\n",
       "      <th>demographic_3_count</th>\n",
       "      <th>relational_3_count</th>\n",
       "    </tr>\n",
       "    <tr>\n",
       "      <th>file_name</th>\n",
       "      <th></th>\n",
       "      <th></th>\n",
       "      <th></th>\n",
       "      <th></th>\n",
       "      <th></th>\n",
       "      <th></th>\n",
       "      <th></th>\n",
       "      <th></th>\n",
       "      <th></th>\n",
       "      <th></th>\n",
       "      <th></th>\n",
       "      <th></th>\n",
       "    </tr>\n",
       "  </thead>\n",
       "  <tbody>\n",
       "    <tr>\n",
       "      <th>journal-article-10.2307_40988397</th>\n",
       "      <td>7780.0</td>\n",
       "      <td>0.0</td>\n",
       "      <td>8.0</td>\n",
       "      <td>0.0</td>\n",
       "      <td>7779.0</td>\n",
       "      <td>0.0</td>\n",
       "      <td>0.0</td>\n",
       "      <td>0.0</td>\n",
       "      <td>7778.0</td>\n",
       "      <td>0.0</td>\n",
       "      <td>0.0</td>\n",
       "      <td>0.0</td>\n",
       "    </tr>\n",
       "    <tr>\n",
       "      <th>journal-article-10.2307_2524503</th>\n",
       "      <td>986.0</td>\n",
       "      <td>0.0</td>\n",
       "      <td>5.0</td>\n",
       "      <td>7.0</td>\n",
       "      <td>985.0</td>\n",
       "      <td>0.0</td>\n",
       "      <td>0.0</td>\n",
       "      <td>0.0</td>\n",
       "      <td>984.0</td>\n",
       "      <td>0.0</td>\n",
       "      <td>0.0</td>\n",
       "      <td>0.0</td>\n",
       "    </tr>\n",
       "    <tr>\n",
       "      <th>journal-article-10.2307_41959136</th>\n",
       "      <td>10128.0</td>\n",
       "      <td>3.0</td>\n",
       "      <td>0.0</td>\n",
       "      <td>3.0</td>\n",
       "      <td>10127.0</td>\n",
       "      <td>0.0</td>\n",
       "      <td>0.0</td>\n",
       "      <td>0.0</td>\n",
       "      <td>10126.0</td>\n",
       "      <td>0.0</td>\n",
       "      <td>0.0</td>\n",
       "      <td>0.0</td>\n",
       "    </tr>\n",
       "    <tr>\n",
       "      <th>journal-article-10.2307_2580647</th>\n",
       "      <td>453.0</td>\n",
       "      <td>4.0</td>\n",
       "      <td>3.0</td>\n",
       "      <td>10.0</td>\n",
       "      <td>452.0</td>\n",
       "      <td>0.0</td>\n",
       "      <td>0.0</td>\n",
       "      <td>0.0</td>\n",
       "      <td>451.0</td>\n",
       "      <td>0.0</td>\n",
       "      <td>0.0</td>\n",
       "      <td>0.0</td>\n",
       "    </tr>\n",
       "    <tr>\n",
       "      <th>journal-article-10.2307_42870525</th>\n",
       "      <td>638.0</td>\n",
       "      <td>0.0</td>\n",
       "      <td>0.0</td>\n",
       "      <td>0.0</td>\n",
       "      <td>637.0</td>\n",
       "      <td>0.0</td>\n",
       "      <td>0.0</td>\n",
       "      <td>0.0</td>\n",
       "      <td>636.0</td>\n",
       "      <td>0.0</td>\n",
       "      <td>0.0</td>\n",
       "      <td>0.0</td>\n",
       "    </tr>\n",
       "  </tbody>\n",
       "</table>\n",
       "</div>"
      ],
      "text/plain": [
       "                                  ngram_1_count  culture_1_count  \\\n",
       "file_name                                                          \n",
       "journal-article-10.2307_40988397         7780.0              0.0   \n",
       "journal-article-10.2307_2524503           986.0              0.0   \n",
       "journal-article-10.2307_41959136        10128.0              3.0   \n",
       "journal-article-10.2307_2580647           453.0              4.0   \n",
       "journal-article-10.2307_42870525          638.0              0.0   \n",
       "\n",
       "                                  demographic_1_count  relational_1_count  \\\n",
       "file_name                                                                   \n",
       "journal-article-10.2307_40988397                  8.0                 0.0   \n",
       "journal-article-10.2307_2524503                   5.0                 7.0   \n",
       "journal-article-10.2307_41959136                  0.0                 3.0   \n",
       "journal-article-10.2307_2580647                   3.0                10.0   \n",
       "journal-article-10.2307_42870525                  0.0                 0.0   \n",
       "\n",
       "                                  ngram_2_count  culture_2_count  \\\n",
       "file_name                                                          \n",
       "journal-article-10.2307_40988397         7779.0              0.0   \n",
       "journal-article-10.2307_2524503           985.0              0.0   \n",
       "journal-article-10.2307_41959136        10127.0              0.0   \n",
       "journal-article-10.2307_2580647           452.0              0.0   \n",
       "journal-article-10.2307_42870525          637.0              0.0   \n",
       "\n",
       "                                  demographic_2_count  relational_2_count  \\\n",
       "file_name                                                                   \n",
       "journal-article-10.2307_40988397                  0.0                 0.0   \n",
       "journal-article-10.2307_2524503                   0.0                 0.0   \n",
       "journal-article-10.2307_41959136                  0.0                 0.0   \n",
       "journal-article-10.2307_2580647                   0.0                 0.0   \n",
       "journal-article-10.2307_42870525                  0.0                 0.0   \n",
       "\n",
       "                                  ngram_3_count  culture_3_count  \\\n",
       "file_name                                                          \n",
       "journal-article-10.2307_40988397         7778.0              0.0   \n",
       "journal-article-10.2307_2524503           984.0              0.0   \n",
       "journal-article-10.2307_41959136        10126.0              0.0   \n",
       "journal-article-10.2307_2580647           451.0              0.0   \n",
       "journal-article-10.2307_42870525          636.0              0.0   \n",
       "\n",
       "                                  demographic_3_count  relational_3_count  \n",
       "file_name                                                                  \n",
       "journal-article-10.2307_40988397                  0.0                 0.0  \n",
       "journal-article-10.2307_2524503                   0.0                 0.0  \n",
       "journal-article-10.2307_41959136                  0.0                 0.0  \n",
       "journal-article-10.2307_2580647                   0.0                 0.0  \n",
       "journal-article-10.2307_42870525                  0.0                 0.0  "
      ]
     },
     "execution_count": 3,
     "metadata": {},
     "output_type": "execute_result"
    }
   ],
   "source": [
    "#properly formats the ngram table for the join on file_name\n",
    "# ngram = ngram.reset_index()\n",
    "ngram.head()"
   ]
  },
  {
   "cell_type": "code",
   "execution_count": 4,
   "metadata": {},
   "outputs": [],
   "source": [
    "ngram = ngram.fillna(0)"
   ]
  },
  {
   "cell_type": "code",
   "execution_count": 5,
   "metadata": {},
   "outputs": [
    {
     "data": {
      "text/html": [
       "<div>\n",
       "<style scoped>\n",
       "    .dataframe tbody tr th:only-of-type {\n",
       "        vertical-align: middle;\n",
       "    }\n",
       "\n",
       "    .dataframe tbody tr th {\n",
       "        vertical-align: top;\n",
       "    }\n",
       "\n",
       "    .dataframe thead th {\n",
       "        text-align: right;\n",
       "    }\n",
       "</style>\n",
       "<table border=\"1\" class=\"dataframe\">\n",
       "  <thead>\n",
       "    <tr style=\"text-align: right;\">\n",
       "      <th></th>\n",
       "      <th>type</th>\n",
       "      <th>journal_id</th>\n",
       "      <th>journal_title</th>\n",
       "      <th>issn</th>\n",
       "      <th>article_id</th>\n",
       "      <th>article_name</th>\n",
       "      <th>given_names</th>\n",
       "      <th>surname</th>\n",
       "      <th>day</th>\n",
       "      <th>month</th>\n",
       "      <th>...</th>\n",
       "      <th>issue</th>\n",
       "      <th>issue_id</th>\n",
       "      <th>fpage</th>\n",
       "      <th>lpage</th>\n",
       "      <th>jstor_url</th>\n",
       "      <th>abstract</th>\n",
       "      <th>given-names</th>\n",
       "      <th>string-name</th>\n",
       "      <th>custom_meta_value</th>\n",
       "      <th>primary_subject</th>\n",
       "    </tr>\n",
       "    <tr>\n",
       "      <th>file_name</th>\n",
       "      <th></th>\n",
       "      <th></th>\n",
       "      <th></th>\n",
       "      <th></th>\n",
       "      <th></th>\n",
       "      <th></th>\n",
       "      <th></th>\n",
       "      <th></th>\n",
       "      <th></th>\n",
       "      <th></th>\n",
       "      <th></th>\n",
       "      <th></th>\n",
       "      <th></th>\n",
       "      <th></th>\n",
       "      <th></th>\n",
       "      <th></th>\n",
       "      <th></th>\n",
       "      <th></th>\n",
       "      <th></th>\n",
       "      <th></th>\n",
       "      <th></th>\n",
       "    </tr>\n",
       "  </thead>\n",
       "  <tbody>\n",
       "    <tr>\n",
       "      <th>journal-article-10.2307_4167860</th>\n",
       "      <td>research-article</td>\n",
       "      <td>j101346</td>\n",
       "      <td>Language in Society</td>\n",
       "      <td>14698013</td>\n",
       "      <td>4167860</td>\n",
       "      <td>Cross-Dialectal Variation in Arabic: Competing...</td>\n",
       "      <td>None</td>\n",
       "      <td>None</td>\n",
       "      <td>1</td>\n",
       "      <td>9</td>\n",
       "      <td>...</td>\n",
       "      <td>5</td>\n",
       "      <td>i393685</td>\n",
       "      <td>145</td>\n",
       "      <td>367</td>\n",
       "      <td>https://www.jstor.org/stable/4167860</td>\n",
       "      <td>Most researchers of Arabic sociolinguistics as...</td>\n",
       "      <td>None</td>\n",
       "      <td>Hassan R. Abd-El-Jawad</td>\n",
       "      <td>eng</td>\n",
       "      <td>Other</td>\n",
       "    </tr>\n",
       "    <tr>\n",
       "      <th>journal-article-10.2307_2578336</th>\n",
       "      <td>book-review</td>\n",
       "      <td>j100364</td>\n",
       "      <td>Social Forces</td>\n",
       "      <td>15347605</td>\n",
       "      <td>10.2307/2578336</td>\n",
       "      <td>None</td>\n",
       "      <td>[Sidney, Hyman P., Riv-Ellen, Stephen, Thomas,...</td>\n",
       "      <td>Prell</td>\n",
       "      <td>1</td>\n",
       "      <td>12</td>\n",
       "      <td>...</td>\n",
       "      <td>2</td>\n",
       "      <td>i344328</td>\n",
       "      <td>561</td>\n",
       "      <td>562</td>\n",
       "      <td>https://www.jstor.org/stable/2578336</td>\n",
       "      <td>None</td>\n",
       "      <td>Riv-Ellen</td>\n",
       "      <td>\\n</td>\n",
       "      <td>eng</td>\n",
       "      <td>Sociology</td>\n",
       "    </tr>\n",
       "    <tr>\n",
       "      <th>journal-article-10.2307_2654760</th>\n",
       "      <td>book-review</td>\n",
       "      <td>j100496</td>\n",
       "      <td>Contemporary Sociology</td>\n",
       "      <td>19398638</td>\n",
       "      <td>2654760</td>\n",
       "      <td>None</td>\n",
       "      <td>[Sidney, Hyman P., Riv-Ellen, Stephen, Thomas,...</td>\n",
       "      <td>Burger</td>\n",
       "      <td>1</td>\n",
       "      <td>1</td>\n",
       "      <td>...</td>\n",
       "      <td>1</td>\n",
       "      <td>i325481</td>\n",
       "      <td>109</td>\n",
       "      <td>110</td>\n",
       "      <td>https://www.jstor.org/stable/2654760</td>\n",
       "      <td>None</td>\n",
       "      <td>Thomas</td>\n",
       "      <td>\\n</td>\n",
       "      <td>eng</td>\n",
       "      <td>Sociology</td>\n",
       "    </tr>\n",
       "    <tr>\n",
       "      <th>journal-article-10.2307_43242281</th>\n",
       "      <td>misc</td>\n",
       "      <td>j50016579</td>\n",
       "      <td>Corporate Knights</td>\n",
       "      <td>17032016</td>\n",
       "      <td>43242281</td>\n",
       "      <td>editor's note: A KNIGHT'S TALE</td>\n",
       "      <td>[Sidney, Hyman P., Riv-Ellen, Stephen, Thomas,...</td>\n",
       "      <td>Heaps</td>\n",
       "      <td>1</td>\n",
       "      <td>4</td>\n",
       "      <td>...</td>\n",
       "      <td>3</td>\n",
       "      <td>i40127498</td>\n",
       "      <td>6</td>\n",
       "      <td>6</td>\n",
       "      <td>https://www.jstor.org/stable/43242281</td>\n",
       "      <td>None</td>\n",
       "      <td>Toby A. A.</td>\n",
       "      <td>\\n</td>\n",
       "      <td>eng</td>\n",
       "      <td>Other</td>\n",
       "    </tr>\n",
       "    <tr>\n",
       "      <th>journal-article-10.2307_42862018</th>\n",
       "      <td>book-review</td>\n",
       "      <td>j50010312</td>\n",
       "      <td>Social Science Quarterly</td>\n",
       "      <td>15406237</td>\n",
       "      <td>42862018</td>\n",
       "      <td>None</td>\n",
       "      <td>[Sidney, Hyman P., Riv-Ellen, Stephen, Thomas,...</td>\n",
       "      <td>COSER</td>\n",
       "      <td>1</td>\n",
       "      <td>12</td>\n",
       "      <td>...</td>\n",
       "      <td>4</td>\n",
       "      <td>i40108834</td>\n",
       "      <td>1004</td>\n",
       "      <td>1004</td>\n",
       "      <td>https://www.jstor.org/stable/42862018</td>\n",
       "      <td>None</td>\n",
       "      <td>Lewis A.</td>\n",
       "      <td>\\n</td>\n",
       "      <td>eng</td>\n",
       "      <td>Sociology</td>\n",
       "    </tr>\n",
       "  </tbody>\n",
       "</table>\n",
       "<p>5 rows × 22 columns</p>\n",
       "</div>"
      ],
      "text/plain": [
       "                                              type journal_id  \\\n",
       "file_name                                                       \n",
       "journal-article-10.2307_4167860   research-article    j101346   \n",
       "journal-article-10.2307_2578336        book-review    j100364   \n",
       "journal-article-10.2307_2654760        book-review    j100496   \n",
       "journal-article-10.2307_43242281              misc  j50016579   \n",
       "journal-article-10.2307_42862018       book-review  j50010312   \n",
       "\n",
       "                                             journal_title      issn  \\\n",
       "file_name                                                              \n",
       "journal-article-10.2307_4167860        Language in Society  14698013   \n",
       "journal-article-10.2307_2578336              Social Forces  15347605   \n",
       "journal-article-10.2307_2654760     Contemporary Sociology  19398638   \n",
       "journal-article-10.2307_43242281         Corporate Knights  17032016   \n",
       "journal-article-10.2307_42862018  Social Science Quarterly  15406237   \n",
       "\n",
       "                                       article_id  \\\n",
       "file_name                                           \n",
       "journal-article-10.2307_4167860           4167860   \n",
       "journal-article-10.2307_2578336   10.2307/2578336   \n",
       "journal-article-10.2307_2654760           2654760   \n",
       "journal-article-10.2307_43242281         43242281   \n",
       "journal-article-10.2307_42862018         42862018   \n",
       "\n",
       "                                                                       article_name  \\\n",
       "file_name                                                                             \n",
       "journal-article-10.2307_4167860   Cross-Dialectal Variation in Arabic: Competing...   \n",
       "journal-article-10.2307_2578336                                                None   \n",
       "journal-article-10.2307_2654760                                                None   \n",
       "journal-article-10.2307_43242281                     editor's note: A KNIGHT'S TALE   \n",
       "journal-article-10.2307_42862018                                               None   \n",
       "\n",
       "                                                                        given_names  \\\n",
       "file_name                                                                             \n",
       "journal-article-10.2307_4167860                                                None   \n",
       "journal-article-10.2307_2578336   [Sidney, Hyman P., Riv-Ellen, Stephen, Thomas,...   \n",
       "journal-article-10.2307_2654760   [Sidney, Hyman P., Riv-Ellen, Stephen, Thomas,...   \n",
       "journal-article-10.2307_43242281  [Sidney, Hyman P., Riv-Ellen, Stephen, Thomas,...   \n",
       "journal-article-10.2307_42862018  [Sidney, Hyman P., Riv-Ellen, Stephen, Thomas,...   \n",
       "\n",
       "                                 surname day month  ... issue   issue_id  \\\n",
       "file_name                                           ...                    \n",
       "journal-article-10.2307_4167860     None   1     9  ...     5    i393685   \n",
       "journal-article-10.2307_2578336    Prell   1    12  ...     2    i344328   \n",
       "journal-article-10.2307_2654760   Burger   1     1  ...     1    i325481   \n",
       "journal-article-10.2307_43242281   Heaps   1     4  ...     3  i40127498   \n",
       "journal-article-10.2307_42862018   COSER   1    12  ...     4  i40108834   \n",
       "\n",
       "                                 fpage lpage  \\\n",
       "file_name                                      \n",
       "journal-article-10.2307_4167860    145   367   \n",
       "journal-article-10.2307_2578336    561   562   \n",
       "journal-article-10.2307_2654760    109   110   \n",
       "journal-article-10.2307_43242281     6     6   \n",
       "journal-article-10.2307_42862018  1004  1004   \n",
       "\n",
       "                                                              jstor_url  \\\n",
       "file_name                                                                 \n",
       "journal-article-10.2307_4167860    https://www.jstor.org/stable/4167860   \n",
       "journal-article-10.2307_2578336    https://www.jstor.org/stable/2578336   \n",
       "journal-article-10.2307_2654760    https://www.jstor.org/stable/2654760   \n",
       "journal-article-10.2307_43242281  https://www.jstor.org/stable/43242281   \n",
       "journal-article-10.2307_42862018  https://www.jstor.org/stable/42862018   \n",
       "\n",
       "                                                                           abstract  \\\n",
       "file_name                                                                             \n",
       "journal-article-10.2307_4167860   Most researchers of Arabic sociolinguistics as...   \n",
       "journal-article-10.2307_2578336                                                None   \n",
       "journal-article-10.2307_2654760                                                None   \n",
       "journal-article-10.2307_43242281                                               None   \n",
       "journal-article-10.2307_42862018                                               None   \n",
       "\n",
       "                                 given-names             string-name  \\\n",
       "file_name                                                              \n",
       "journal-article-10.2307_4167860         None  Hassan R. Abd-El-Jawad   \n",
       "journal-article-10.2307_2578336    Riv-Ellen    \\n                     \n",
       "journal-article-10.2307_2654760       Thomas    \\n                     \n",
       "journal-article-10.2307_43242281  Toby A. A.    \\n                     \n",
       "journal-article-10.2307_42862018    Lewis A.    \\n                     \n",
       "\n",
       "                                 custom_meta_value primary_subject  \n",
       "file_name                                                           \n",
       "journal-article-10.2307_4167860                eng           Other  \n",
       "journal-article-10.2307_2578336                eng       Sociology  \n",
       "journal-article-10.2307_2654760                eng       Sociology  \n",
       "journal-article-10.2307_43242281               eng           Other  \n",
       "journal-article-10.2307_42862018               eng       Sociology  \n",
       "\n",
       "[5 rows x 22 columns]"
      ]
     },
     "execution_count": 5,
     "metadata": {},
     "output_type": "execute_result"
    }
   ],
   "source": [
    "#Here's how this data frame looks\n",
    "metadata.head()"
   ]
  },
  {
   "cell_type": "code",
   "execution_count": 6,
   "metadata": {},
   "outputs": [
    {
     "name": "stdout",
     "output_type": "stream",
     "text": [
      "Num articles in ngram file:  398703\n",
      "Num articles in metadata file:  238501\n"
     ]
    }
   ],
   "source": [
    "print('Num articles in ngram file: ',len(ngram))\n",
    "print('Num articles in metadata file: ',len(metadata)) # Includes only articles belonging to the journals in the list."
   ]
  },
  {
   "cell_type": "code",
   "execution_count": 7,
   "metadata": {},
   "outputs": [
    {
     "name": "stdout",
     "output_type": "stream",
     "text": [
      "DF metadata columns:  Index(['ngram_1_count', 'culture_1_count', 'demographic_1_count',\n",
      "       'relational_1_count', 'ngram_2_count', 'culture_2_count',\n",
      "       'demographic_2_count', 'relational_2_count', 'ngram_3_count',\n",
      "       'culture_3_count', 'demographic_3_count', 'relational_3_count'],\n",
      "      dtype='object')\n",
      "DF ngram columns:  Index(['type', 'journal_id', 'journal_title', 'issn', 'article_id',\n",
      "       'article_name', 'given_names', 'surname', 'day', 'month', 'year',\n",
      "       'volume', 'issue', 'issue_id', 'fpage', 'lpage', 'jstor_url',\n",
      "       'abstract', 'given-names', 'string-name', 'custom_meta_value',\n",
      "       'primary_subject'],\n",
      "      dtype='object')\n"
     ]
    }
   ],
   "source": [
    "print('DF metadata columns: ', ngram.columns)\n",
    "print('DF ngram columns: ', metadata.columns)"
   ]
  },
  {
   "cell_type": "markdown",
   "metadata": {},
   "source": [
    "Now we know the columns in each file, we can merge on 'file_name' to create a new dataframe that contains the n-gram counts as well as the year in which an article is published"
   ]
  },
  {
   "cell_type": "code",
   "execution_count": 8,
   "metadata": {},
   "outputs": [
    {
     "data": {
      "text/plain": [
       "array(['1995', '2000', '1999', '1902', '1980', '2009', '1989', '1991',\n",
       "       '1978', '2014', '1986', '1983', '1987', '1979', '1985', '2005',\n",
       "       '1990', '1977', '2013', '1994', '2008', '2007', '1981', '1948',\n",
       "       '1996', '2010', '2002', '1982', '2006', '2012', '2011', '1988',\n",
       "       '1997', '1976', '1970', '1971', '1992', '2001', '1968', '1998',\n",
       "       '2004', '1993', '1975', '1969', '1958', '1965', '1972', '1974',\n",
       "       '1907', '1950', '1984', '2003', '1941', '2015', '1961', '1973',\n",
       "       '1963', '2016', '1936', '1962', '1967', '1960', '1954', '1964',\n",
       "       '1932', '1959', '1911', '1966', '2017', '2018', '1917', '1953',\n",
       "       '1955', '1952', '1956', '1939', '1923', '1903', '1930', '1937',\n",
       "       '1934', '1946', '1944', '1928', '1949', '1957', '1951', '1779',\n",
       "       '1832', '1927', '1912', '1765', '1897', '1919', '1947', '1910',\n",
       "       '1869', '1918', '1942', '1933', '1909', '1931', '1929', '1943',\n",
       "       '1938', '1858', '1883', '1908', '1940', '1896', '1845', '1922',\n",
       "       '1935', '1925', '1855', '1906', '1748', '1945', '1914', '1891',\n",
       "       '1886', '1898', '2006b', '2002b', '1999b', '1783', '1924', '1807',\n",
       "       '1871', '2008-09', '1876', '1920', '1904', '1873', '1913', '1882',\n",
       "       'None', '1921', '1905', '1842', '1888', '1733', '1880', '1853',\n",
       "       '1926', '1885', '1852', '1892', '1894', '2010–2011', '1792',\n",
       "       '1859', '1860', '2000b', '1915', '1751', '1844', '1830', '1900',\n",
       "       '1834', '1916', '1872', '1857', '1856', '1864', '1899', '1895',\n",
       "       '1811', '1890', '1875', '1887', '1868', '1769', '1846', '1806',\n",
       "       '1884', '2012b', '1838', '1999c', '1848', '1854', '1893', '2005b',\n",
       "       '1776', '1867', '1383', '1987g', '1959a', '2537', '1791', '1772',\n",
       "       '1861', '2004b', '1877', '1773', '1889', '2003b', '1986a', '1768',\n",
       "       '1835', '2008b', '1837', '1526', '1790', '1850', '1881',\n",
       "       '2005/2006', '2001b', '1646', '1793', '1074', '1827', '1736',\n",
       "       '1740', '.', '1822', '1996b', '1851', '1486', '1843', '1761',\n",
       "       '1878', '1599', '1839', '1725', '1532', '1810', '1821', '1618',\n",
       "       '1870', '1797', '1874', '2008–09', '1788', '1631', '1901', '1840',\n",
       "       '1828', '1756', '1763', '1847', '1589', '1954b', '1833', '2009b',\n",
       "       '1785', '1129', '1809'], dtype=object)"
      ]
     },
     "execution_count": 8,
     "metadata": {},
     "output_type": "execute_result"
    }
   ],
   "source": [
    "dfnew = ngram.merge(metadata, on='file_name')\n",
    "#one df contains the ngram counts, the other, merged_new, has the metadata\n",
    "dfnew['year'].unique()\n",
    "#how many years are there in total?"
   ]
  },
  {
   "cell_type": "code",
   "execution_count": 9,
   "metadata": {},
   "outputs": [
    {
     "data": {
      "text/html": [
       "<div>\n",
       "<style scoped>\n",
       "    .dataframe tbody tr th:only-of-type {\n",
       "        vertical-align: middle;\n",
       "    }\n",
       "\n",
       "    .dataframe tbody tr th {\n",
       "        vertical-align: top;\n",
       "    }\n",
       "\n",
       "    .dataframe thead th {\n",
       "        text-align: right;\n",
       "    }\n",
       "</style>\n",
       "<table border=\"1\" class=\"dataframe\">\n",
       "  <thead>\n",
       "    <tr style=\"text-align: right;\">\n",
       "      <th></th>\n",
       "      <th>ngram_1_count</th>\n",
       "      <th>culture_1_count</th>\n",
       "      <th>demographic_1_count</th>\n",
       "      <th>relational_1_count</th>\n",
       "      <th>ngram_2_count</th>\n",
       "      <th>culture_2_count</th>\n",
       "      <th>demographic_2_count</th>\n",
       "      <th>relational_2_count</th>\n",
       "      <th>ngram_3_count</th>\n",
       "      <th>culture_3_count</th>\n",
       "      <th>...</th>\n",
       "      <th>issue</th>\n",
       "      <th>issue_id</th>\n",
       "      <th>fpage</th>\n",
       "      <th>lpage</th>\n",
       "      <th>jstor_url</th>\n",
       "      <th>abstract</th>\n",
       "      <th>given-names</th>\n",
       "      <th>string-name</th>\n",
       "      <th>custom_meta_value</th>\n",
       "      <th>primary_subject</th>\n",
       "    </tr>\n",
       "    <tr>\n",
       "      <th>file_name</th>\n",
       "      <th></th>\n",
       "      <th></th>\n",
       "      <th></th>\n",
       "      <th></th>\n",
       "      <th></th>\n",
       "      <th></th>\n",
       "      <th></th>\n",
       "      <th></th>\n",
       "      <th></th>\n",
       "      <th></th>\n",
       "      <th></th>\n",
       "      <th></th>\n",
       "      <th></th>\n",
       "      <th></th>\n",
       "      <th></th>\n",
       "      <th></th>\n",
       "      <th></th>\n",
       "      <th></th>\n",
       "      <th></th>\n",
       "      <th></th>\n",
       "      <th></th>\n",
       "    </tr>\n",
       "  </thead>\n",
       "  <tbody>\n",
       "    <tr>\n",
       "      <th>journal-article-10.2307_2524503</th>\n",
       "      <td>986.0</td>\n",
       "      <td>0.0</td>\n",
       "      <td>5.0</td>\n",
       "      <td>7.0</td>\n",
       "      <td>985.0</td>\n",
       "      <td>0.0</td>\n",
       "      <td>0.0</td>\n",
       "      <td>0.0</td>\n",
       "      <td>984.0</td>\n",
       "      <td>0.0</td>\n",
       "      <td>...</td>\n",
       "      <td>2</td>\n",
       "      <td>i322990</td>\n",
       "      <td>366</td>\n",
       "      <td>367</td>\n",
       "      <td>https://www.jstor.org/stable/2524503</td>\n",
       "      <td>None</td>\n",
       "      <td>Barry</td>\n",
       "      <td>\\n</td>\n",
       "      <td>eng</td>\n",
       "      <td>Other</td>\n",
       "    </tr>\n",
       "    <tr>\n",
       "      <th>journal-article-10.2307_2580647</th>\n",
       "      <td>453.0</td>\n",
       "      <td>4.0</td>\n",
       "      <td>3.0</td>\n",
       "      <td>10.0</td>\n",
       "      <td>452.0</td>\n",
       "      <td>0.0</td>\n",
       "      <td>0.0</td>\n",
       "      <td>0.0</td>\n",
       "      <td>451.0</td>\n",
       "      <td>0.0</td>\n",
       "      <td>...</td>\n",
       "      <td>1</td>\n",
       "      <td>i344361</td>\n",
       "      <td>356</td>\n",
       "      <td>357</td>\n",
       "      <td>https://www.jstor.org/stable/2580647</td>\n",
       "      <td>None</td>\n",
       "      <td>Barbara J.</td>\n",
       "      <td>\\n</td>\n",
       "      <td>eng</td>\n",
       "      <td>Sociology</td>\n",
       "    </tr>\n",
       "    <tr>\n",
       "      <th>journal-article-10.2307_40604289</th>\n",
       "      <td>2432.0</td>\n",
       "      <td>1.0</td>\n",
       "      <td>1.0</td>\n",
       "      <td>27.0</td>\n",
       "      <td>2431.0</td>\n",
       "      <td>0.0</td>\n",
       "      <td>0.0</td>\n",
       "      <td>0.0</td>\n",
       "      <td>2430.0</td>\n",
       "      <td>0.0</td>\n",
       "      <td>...</td>\n",
       "      <td>1</td>\n",
       "      <td>i40026451</td>\n",
       "      <td>None</td>\n",
       "      <td>None</td>\n",
       "      <td>https://www.jstor.org/stable/40604289</td>\n",
       "      <td>None</td>\n",
       "      <td>None</td>\n",
       "      <td>None</td>\n",
       "      <td>eng</td>\n",
       "      <td>Management &amp; Organizational Behavior</td>\n",
       "    </tr>\n",
       "    <tr>\n",
       "      <th>journal-article-10.2307_977483</th>\n",
       "      <td>2080.0</td>\n",
       "      <td>5.0</td>\n",
       "      <td>2.0</td>\n",
       "      <td>23.0</td>\n",
       "      <td>2079.0</td>\n",
       "      <td>0.0</td>\n",
       "      <td>0.0</td>\n",
       "      <td>0.0</td>\n",
       "      <td>2078.0</td>\n",
       "      <td>0.0</td>\n",
       "      <td>...</td>\n",
       "      <td>1</td>\n",
       "      <td>i240092</td>\n",
       "      <td>89</td>\n",
       "      <td>92</td>\n",
       "      <td>https://www.jstor.org/stable/977483</td>\n",
       "      <td>None</td>\n",
       "      <td>Robert</td>\n",
       "      <td>\\n</td>\n",
       "      <td>eng</td>\n",
       "      <td>Other</td>\n",
       "    </tr>\n",
       "    <tr>\n",
       "      <th>journal-article-10.2307_270850</th>\n",
       "      <td>6429.0</td>\n",
       "      <td>8.0</td>\n",
       "      <td>132.0</td>\n",
       "      <td>8.0</td>\n",
       "      <td>6428.0</td>\n",
       "      <td>0.0</td>\n",
       "      <td>0.0</td>\n",
       "      <td>0.0</td>\n",
       "      <td>6427.0</td>\n",
       "      <td>0.0</td>\n",
       "      <td>...</td>\n",
       "      <td>None</td>\n",
       "      <td>i212004</td>\n",
       "      <td>346</td>\n",
       "      <td>211</td>\n",
       "      <td>https://www.jstor.org/stable/270850</td>\n",
       "      <td>None</td>\n",
       "      <td>James W.</td>\n",
       "      <td>\\n</td>\n",
       "      <td>eng</td>\n",
       "      <td>Sociology</td>\n",
       "    </tr>\n",
       "  </tbody>\n",
       "</table>\n",
       "<p>5 rows × 34 columns</p>\n",
       "</div>"
      ],
      "text/plain": [
       "                                  ngram_1_count  culture_1_count  \\\n",
       "file_name                                                          \n",
       "journal-article-10.2307_2524503           986.0              0.0   \n",
       "journal-article-10.2307_2580647           453.0              4.0   \n",
       "journal-article-10.2307_40604289         2432.0              1.0   \n",
       "journal-article-10.2307_977483           2080.0              5.0   \n",
       "journal-article-10.2307_270850           6429.0              8.0   \n",
       "\n",
       "                                  demographic_1_count  relational_1_count  \\\n",
       "file_name                                                                   \n",
       "journal-article-10.2307_2524503                   5.0                 7.0   \n",
       "journal-article-10.2307_2580647                   3.0                10.0   \n",
       "journal-article-10.2307_40604289                  1.0                27.0   \n",
       "journal-article-10.2307_977483                    2.0                23.0   \n",
       "journal-article-10.2307_270850                  132.0                 8.0   \n",
       "\n",
       "                                  ngram_2_count  culture_2_count  \\\n",
       "file_name                                                          \n",
       "journal-article-10.2307_2524503           985.0              0.0   \n",
       "journal-article-10.2307_2580647           452.0              0.0   \n",
       "journal-article-10.2307_40604289         2431.0              0.0   \n",
       "journal-article-10.2307_977483           2079.0              0.0   \n",
       "journal-article-10.2307_270850           6428.0              0.0   \n",
       "\n",
       "                                  demographic_2_count  relational_2_count  \\\n",
       "file_name                                                                   \n",
       "journal-article-10.2307_2524503                   0.0                 0.0   \n",
       "journal-article-10.2307_2580647                   0.0                 0.0   \n",
       "journal-article-10.2307_40604289                  0.0                 0.0   \n",
       "journal-article-10.2307_977483                    0.0                 0.0   \n",
       "journal-article-10.2307_270850                    0.0                 0.0   \n",
       "\n",
       "                                  ngram_3_count  culture_3_count  ...  issue  \\\n",
       "file_name                                                         ...          \n",
       "journal-article-10.2307_2524503           984.0              0.0  ...      2   \n",
       "journal-article-10.2307_2580647           451.0              0.0  ...      1   \n",
       "journal-article-10.2307_40604289         2430.0              0.0  ...      1   \n",
       "journal-article-10.2307_977483           2078.0              0.0  ...      1   \n",
       "journal-article-10.2307_270850           6427.0              0.0  ...   None   \n",
       "\n",
       "                                   issue_id fpage lpage  \\\n",
       "file_name                                                 \n",
       "journal-article-10.2307_2524503     i322990   366   367   \n",
       "journal-article-10.2307_2580647     i344361   356   357   \n",
       "journal-article-10.2307_40604289  i40026451  None  None   \n",
       "journal-article-10.2307_977483      i240092    89    92   \n",
       "journal-article-10.2307_270850      i212004   346   211   \n",
       "\n",
       "                                                              jstor_url  \\\n",
       "file_name                                                                 \n",
       "journal-article-10.2307_2524503    https://www.jstor.org/stable/2524503   \n",
       "journal-article-10.2307_2580647    https://www.jstor.org/stable/2580647   \n",
       "journal-article-10.2307_40604289  https://www.jstor.org/stable/40604289   \n",
       "journal-article-10.2307_977483      https://www.jstor.org/stable/977483   \n",
       "journal-article-10.2307_270850      https://www.jstor.org/stable/270850   \n",
       "\n",
       "                                 abstract given-names           string-name  \\\n",
       "file_name                                                                     \n",
       "journal-article-10.2307_2524503      None       Barry  \\n                     \n",
       "journal-article-10.2307_2580647      None  Barbara J.  \\n                     \n",
       "journal-article-10.2307_40604289     None        None                  None   \n",
       "journal-article-10.2307_977483       None      Robert  \\n                     \n",
       "journal-article-10.2307_270850       None    James W.  \\n                     \n",
       "\n",
       "                                 custom_meta_value  \\\n",
       "file_name                                            \n",
       "journal-article-10.2307_2524503                eng   \n",
       "journal-article-10.2307_2580647                eng   \n",
       "journal-article-10.2307_40604289               eng   \n",
       "journal-article-10.2307_977483                 eng   \n",
       "journal-article-10.2307_270850                 eng   \n",
       "\n",
       "                                                       primary_subject  \n",
       "file_name                                                               \n",
       "journal-article-10.2307_2524503                                  Other  \n",
       "journal-article-10.2307_2580647                              Sociology  \n",
       "journal-article-10.2307_40604289  Management & Organizational Behavior  \n",
       "journal-article-10.2307_977483                                   Other  \n",
       "journal-article-10.2307_270850                               Sociology  \n",
       "\n",
       "[5 rows x 34 columns]"
      ]
     },
     "execution_count": 9,
     "metadata": {},
     "output_type": "execute_result"
    }
   ],
   "source": [
    "#this is the merged dataframe combining metadata for a journal with its ngram counts\n",
    "dfnew.head()"
   ]
  },
  {
   "cell_type": "code",
   "execution_count": 10,
   "metadata": {},
   "outputs": [
    {
     "data": {
      "text/plain": [
       "array([1995, 2000, 1999, 1902, 1980, 2009, 1989, 1991, 1978, 2014, 1986,\n",
       "       1983, 1987, 1979, 1985, 2005, 1990, 1977, 2013, 1994, 2008, 2007,\n",
       "       1981, 1948, 1996, 2010, 2002, 1982, 2006, 2012, 2011, 1988, 1997,\n",
       "       1976, 1970, 1971, 1992, 2001, 1968, 1998, 2004, 1993, 1975, 1969,\n",
       "       1958, 1965, 1972, 1974, 1907, 1950, 1984, 2003, 1941, 2015, 1961,\n",
       "       1973, 1963, 2016, 1936, 1962, 1967, 1960, 1954, 1964, 1932, 1959,\n",
       "       1911, 1966, 2017, 2018, 1917, 1953, 1955, 1952, 1956, 1939, 1923,\n",
       "       1903, 1930, 1937, 1934, 1946, 1944, 1928, 1949, 1957, 1951, 1779,\n",
       "       1832, 1927, 1912, 1765, 1897, 1919, 1947, 1910, 1869, 1918, 1942,\n",
       "       1933, 1909, 1931, 1929, 1943, 1938, 1858, 1883, 1908, 1940, 1896,\n",
       "       1845, 1922, 1935, 1925, 1855, 1906, 1748, 1945, 1914, 1891, 1886,\n",
       "       1898, 1783, 1924, 1807, 1871, 1876, 1920, 1904, 1873, 1913, 1882,\n",
       "       1800, 1921, 1905, 1842, 1888, 1733, 1880, 1853, 1926, 1885, 1852,\n",
       "       1892, 1894, 1792, 1859, 1860, 1915, 1751, 1844, 1830, 1900, 1834,\n",
       "       1916, 1872, 1857, 1856, 1864, 1899, 1895, 1811, 1890, 1875, 1887,\n",
       "       1868, 1769, 1846, 1806, 1884, 1838, 1848, 1854, 1893, 1776, 1867,\n",
       "       1383, 2537, 1791, 1772, 1861, 1877, 1773, 1889, 1768, 1835, 1837,\n",
       "       1526, 1790, 1850, 1881, 1646, 1793, 1074, 1827, 1736, 1740, 1822,\n",
       "       1851, 1486, 1843, 1761, 1878, 1599, 1839, 1725, 1532, 1810, 1821,\n",
       "       1618, 1870, 1797, 1874, 1788, 1631, 1901, 1840, 1828, 1756, 1763,\n",
       "       1847, 1589, 1833, 1785, 1129, 1809])"
      ]
     },
     "execution_count": 10,
     "metadata": {},
     "output_type": "execute_result"
    }
   ],
   "source": [
    "#cleaning up the years to integers, removing junk chars\n",
    "#since the previous values contained letters, multiple years and likely typos, we are removing those bad characters\n",
    "def clean(row):\n",
    "    val = 1800\n",
    "    try:\n",
    "        return int(str(row['year'])[0:4])\n",
    "    except:\n",
    "        return val\n",
    "dfnew['year'] = dfnew.apply(lambda row: clean(row), axis = 1)\n",
    "dfnew['year'].unique()"
   ]
  },
  {
   "cell_type": "code",
   "execution_count": 11,
   "metadata": {},
   "outputs": [
    {
     "data": {
      "text/plain": [
       "array([1995, 2000, 1999, 1980, 2009, 1989, 1991, 1978, 2014, 1986, 1983,\n",
       "       1987, 1979, 1985, 2005, 1990, 1977, 2013, 1994, 2008, 2007, 1981,\n",
       "       1996, 2010, 2002, 1982, 2006, 2012, 2011, 1988, 1997, 1976, 1971,\n",
       "       1992, 2001, 1998, 2004, 1993, 1975, 1972, 1974, 1984, 2003, 2015,\n",
       "       1973])"
      ]
     },
     "execution_count": 11,
     "metadata": {},
     "output_type": "execute_result"
    }
   ],
   "source": [
    "#It's clear we need to clean this data and remove the articles with years before or after our analysis time period\n",
    "#gets dataframe for values after 1970 and before 2015\n",
    "df1= dfnew[dfnew['year']>1970]\n",
    "df1 = df1[df1['year']<=2015]\n",
    "df1['year'].unique()"
   ]
  },
  {
   "cell_type": "code",
   "execution_count": 12,
   "metadata": {},
   "outputs": [
    {
     "name": "stdout",
     "output_type": "stream",
     "text": [
      "Filtered Dataframe Length:  224998\n"
     ]
    }
   ],
   "source": [
    "print('Filtered Dataframe Length: ', len(df1))"
   ]
  },
  {
   "cell_type": "code",
   "execution_count": 13,
   "metadata": {},
   "outputs": [
    {
     "data": {
      "text/plain": [
       "Index(['ngram_1_count', 'culture_1_count', 'demographic_1_count',\n",
       "       'relational_1_count', 'ngram_2_count', 'culture_2_count',\n",
       "       'demographic_2_count', 'relational_2_count', 'ngram_3_count',\n",
       "       'culture_3_count', 'demographic_3_count', 'relational_3_count', 'type',\n",
       "       'journal_id', 'journal_title', 'issn', 'article_id', 'article_name',\n",
       "       'given_names', 'surname', 'day', 'month', 'year', 'volume', 'issue',\n",
       "       'issue_id', 'fpage', 'lpage', 'jstor_url', 'abstract', 'given-names',\n",
       "       'string-name', 'custom_meta_value', 'primary_subject'],\n",
       "      dtype='object')"
      ]
     },
     "execution_count": 13,
     "metadata": {},
     "output_type": "execute_result"
    }
   ],
   "source": [
    "df1.columns"
   ]
  },
  {
   "cell_type": "markdown",
   "metadata": {},
   "source": [
    "Now we have a big dataframe with articles, ngram counts and the years in which they were published, we need to decide how to count up the n-grams for an article."
   ]
  },
  {
   "cell_type": "code",
   "execution_count": 14,
   "metadata": {},
   "outputs": [],
   "source": [
    "#Commented out by JH on 12-03-19 - clean up denominator (don't count words three times)\n",
    "#df1['Final_Culture_Count'] = (df1['culture_1_count'] + df1['culture_2_count'] + df1['culture_3_count'])/(df1['ngram_1_count']+df1['ngram_2_count']+df1['ngram_3_count'])\n",
    "#df1['Final_Demographic_Count'] = (df1['demographic_1_count'] + df1['demographic_2_count'] + df1['demographic_3_count'])/(df1['ngram_1_count']+df1['ngram_2_count']+df1['ngram_3_count'])\n",
    "#df1['Final_Relational_Count'] = (df1['relational_1_count'] + df1['relational_2_count'] + df1['relational_3_count'])/(df1['ngram_1_count']+df1['ngram_2_count']+df1['ngram_3_count'])"
   ]
  },
  {
   "cell_type": "code",
   "execution_count": 15,
   "metadata": {},
   "outputs": [],
   "source": [
    "#How do we want to count 1gram counts vs. 2gram counts?\n",
    "df1['Final_Culture_Count'] = (df1['culture_1_count'] + df1['culture_2_count'] + df1['culture_3_count'])/(df1['ngram_1_count'])\n",
    "df1['Final_Demographic_Count'] = (df1['demographic_1_count'] + df1['demographic_2_count'] + df1['demographic_3_count'])/(df1['ngram_1_count'])\n",
    "df1['Final_Relational_Count'] = (df1['relational_1_count'] + df1['relational_2_count'] + df1['relational_3_count'])/(df1['ngram_1_count'])"
   ]
  },
  {
   "cell_type": "code",
   "execution_count": 16,
   "metadata": {},
   "outputs": [
    {
     "data": {
      "text/plain": [
       "(155553, 37)"
      ]
     },
     "execution_count": 16,
     "metadata": {},
     "output_type": "execute_result"
    }
   ],
   "source": [
    "#filters dataframe for subjects that are sociology or Management & Organizational Behavior (i.e not Other)\n",
    "df_for_subj = df1[df1['primary_subject'] != 'Other']\n",
    "df_for_subj.shape"
   ]
  },
  {
   "cell_type": "code",
   "execution_count": 17,
   "metadata": {},
   "outputs": [
    {
     "data": {
      "text/plain": [
       "(70082, 37)"
      ]
     },
     "execution_count": 17,
     "metadata": {},
     "output_type": "execute_result"
    }
   ],
   "source": [
    "df_for_subj = df_for_subj[df_for_subj['type'] == 'research-article']\n",
    "df_for_subj.shape"
   ]
  },
  {
   "cell_type": "code",
   "execution_count": 18,
   "metadata": {},
   "outputs": [],
   "source": [
    "sociology_culture = df_for_subj[df_for_subj.primary_subject == 'Sociology'].sort_values('Final_Culture_Count')[-10:]\n",
    "sociology_demographic = df_for_subj[df_for_subj.primary_subject == 'Sociology'].sort_values('Final_Demographic_Count')[-10:]\n",
    "sociology_relational = df_for_subj[df_for_subj.primary_subject == 'Sociology'].sort_values('Final_Relational_Count')[-10:]\n",
    "management_culture = df_for_subj[df_for_subj.primary_subject == 'Management & Organizational Behavior'].sort_values('Final_Culture_Count')[-10:]\n",
    "management_demographic = df_for_subj[df_for_subj.primary_subject == 'Management & Organizational Behavior'].sort_values('Final_Demographic_Count')[-10:]\n",
    "management_relational = df_for_subj[df_for_subj.primary_subject == 'Management & Organizational Behavior'].sort_values('Final_Relational_Count')[-10:]"
   ]
  },
  {
   "cell_type": "code",
   "execution_count": 19,
   "metadata": {},
   "outputs": [],
   "source": [
    "# sociology_culture.to_csv('sociology_culture.csv')\n",
    "# sociology_demographic.to_csv('sociology_demographic.csv')\n",
    "# sociology_relational.to_csv('sociology_relational.csv')\n",
    "# management_culture.to_csv('management_culture.csv')\n",
    "# management_demographic.to_csv('management_demographic.csv')\n",
    "# management_relational.to_csv('management_relational.csv')"
   ]
  },
  {
   "cell_type": "code",
   "execution_count": 20,
   "metadata": {},
   "outputs": [
    {
     "data": {
      "text/html": [
       "<div>\n",
       "<style scoped>\n",
       "    .dataframe tbody tr th:only-of-type {\n",
       "        vertical-align: middle;\n",
       "    }\n",
       "\n",
       "    .dataframe tbody tr th {\n",
       "        vertical-align: top;\n",
       "    }\n",
       "\n",
       "    .dataframe thead th {\n",
       "        text-align: right;\n",
       "    }\n",
       "</style>\n",
       "<table border=\"1\" class=\"dataframe\">\n",
       "  <thead>\n",
       "    <tr style=\"text-align: right;\">\n",
       "      <th></th>\n",
       "      <th></th>\n",
       "      <th>Final_Culture_Count</th>\n",
       "      <th>Final_Demographic_Count</th>\n",
       "      <th>Final_Relational_Count</th>\n",
       "    </tr>\n",
       "    <tr>\n",
       "      <th>year</th>\n",
       "      <th>primary_subject</th>\n",
       "      <th></th>\n",
       "      <th></th>\n",
       "      <th></th>\n",
       "    </tr>\n",
       "  </thead>\n",
       "  <tbody>\n",
       "    <tr>\n",
       "      <th rowspan=\"2\" valign=\"top\">1971</th>\n",
       "      <th>Management &amp; Organizational Behavior</th>\n",
       "      <td>0.003917</td>\n",
       "      <td>0.002574</td>\n",
       "      <td>0.011317</td>\n",
       "    </tr>\n",
       "    <tr>\n",
       "      <th>Sociology</th>\n",
       "      <td>0.003439</td>\n",
       "      <td>0.002785</td>\n",
       "      <td>0.006260</td>\n",
       "    </tr>\n",
       "    <tr>\n",
       "      <th rowspan=\"2\" valign=\"top\">1972</th>\n",
       "      <th>Management &amp; Organizational Behavior</th>\n",
       "      <td>0.003594</td>\n",
       "      <td>0.002453</td>\n",
       "      <td>0.011085</td>\n",
       "    </tr>\n",
       "    <tr>\n",
       "      <th>Sociology</th>\n",
       "      <td>0.003279</td>\n",
       "      <td>0.002688</td>\n",
       "      <td>0.006758</td>\n",
       "    </tr>\n",
       "    <tr>\n",
       "      <th>1973</th>\n",
       "      <th>Management &amp; Organizational Behavior</th>\n",
       "      <td>0.005030</td>\n",
       "      <td>0.002797</td>\n",
       "      <td>0.013084</td>\n",
       "    </tr>\n",
       "  </tbody>\n",
       "</table>\n",
       "</div>"
      ],
      "text/plain": [
       "                                           Final_Culture_Count  \\\n",
       "year primary_subject                                             \n",
       "1971 Management & Organizational Behavior             0.003917   \n",
       "     Sociology                                        0.003439   \n",
       "1972 Management & Organizational Behavior             0.003594   \n",
       "     Sociology                                        0.003279   \n",
       "1973 Management & Organizational Behavior             0.005030   \n",
       "\n",
       "                                           Final_Demographic_Count  \\\n",
       "year primary_subject                                                 \n",
       "1971 Management & Organizational Behavior                 0.002574   \n",
       "     Sociology                                            0.002785   \n",
       "1972 Management & Organizational Behavior                 0.002453   \n",
       "     Sociology                                            0.002688   \n",
       "1973 Management & Organizational Behavior                 0.002797   \n",
       "\n",
       "                                           Final_Relational_Count  \n",
       "year primary_subject                                               \n",
       "1971 Management & Organizational Behavior                0.011317  \n",
       "     Sociology                                           0.006260  \n",
       "1972 Management & Organizational Behavior                0.011085  \n",
       "     Sociology                                           0.006758  \n",
       "1973 Management & Organizational Behavior                0.013084  "
      ]
     },
     "execution_count": 20,
     "metadata": {},
     "output_type": "execute_result"
    }
   ],
   "source": [
    "#Once we have these final counts, we will group by year to get an average value for each count for a year and plot that!\n",
    "df_for_plot = df_for_subj[['Final_Culture_Count','Final_Demographic_Count','Final_Relational_Count','year','primary_subject']]\n",
    "df_for_plot = df_for_plot.groupby(['year','primary_subject']).mean()\n",
    "df_for_plot.head()"
   ]
  },
  {
   "cell_type": "code",
   "execution_count": 21,
   "metadata": {},
   "outputs": [
    {
     "data": {
      "image/png": "[encoded data removed]",
      "text/plain": [
       "<Figure size 504x288 with 1 Axes>"
      ]
     },
     "metadata": {
      "needs_background": "light"
     },
     "output_type": "display_data"
    }
   ],
   "source": [
    "import matplotlib.pyplot as plt\n",
    "%matplotlib inline\n",
    "fig, ax = plt.subplots(figsize=(7,4))\n",
    "df_for_plot.unstack().plot(ax = ax)\n",
    "ax.legend(bbox_to_anchor=(2, 1.05))\n",
    "plt.show()"
   ]
  },
  {
   "cell_type": "code",
   "execution_count": 22,
   "metadata": {},
   "outputs": [
    {
     "data": {
      "text/html": [
       "<div>\n",
       "<style scoped>\n",
       "    .dataframe tbody tr th:only-of-type {\n",
       "        vertical-align: middle;\n",
       "    }\n",
       "\n",
       "    .dataframe tbody tr th {\n",
       "        vertical-align: top;\n",
       "    }\n",
       "\n",
       "    .dataframe thead th {\n",
       "        text-align: right;\n",
       "    }\n",
       "</style>\n",
       "<table border=\"1\" class=\"dataframe\">\n",
       "  <thead>\n",
       "    <tr style=\"text-align: right;\">\n",
       "      <th></th>\n",
       "      <th>Final_Culture_Count</th>\n",
       "      <th>Final_Demographic_Count</th>\n",
       "      <th>Final_Relational_Count</th>\n",
       "    </tr>\n",
       "  </thead>\n",
       "  <tbody>\n",
       "    <tr>\n",
       "      <th>Final_Culture_Count</th>\n",
       "      <td>1.000000</td>\n",
       "      <td>0.516134</td>\n",
       "      <td>0.794708</td>\n",
       "    </tr>\n",
       "    <tr>\n",
       "      <th>Final_Demographic_Count</th>\n",
       "      <td>0.516134</td>\n",
       "      <td>1.000000</td>\n",
       "      <td>0.680022</td>\n",
       "    </tr>\n",
       "    <tr>\n",
       "      <th>Final_Relational_Count</th>\n",
       "      <td>0.794708</td>\n",
       "      <td>0.680022</td>\n",
       "      <td>1.000000</td>\n",
       "    </tr>\n",
       "  </tbody>\n",
       "</table>\n",
       "</div>"
      ],
      "text/plain": [
       "                         Final_Culture_Count  Final_Demographic_Count  \\\n",
       "Final_Culture_Count                 1.000000                 0.516134   \n",
       "Final_Demographic_Count             0.516134                 1.000000   \n",
       "Final_Relational_Count              0.794708                 0.680022   \n",
       "\n",
       "                         Final_Relational_Count  \n",
       "Final_Culture_Count                    0.794708  \n",
       "Final_Demographic_Count                0.680022  \n",
       "Final_Relational_Count                 1.000000  "
      ]
     },
     "execution_count": 22,
     "metadata": {},
     "output_type": "execute_result"
    }
   ],
   "source": [
    "#Plotted the correlation between the three types of counts: culture, demographic, relational\n",
    "df_for_plot.corr()"
   ]
  },
  {
   "cell_type": "code",
   "execution_count": 23,
   "metadata": {},
   "outputs": [],
   "source": [
    "# os.chdir('/home/jovyan/work/Computational-Analysis-For-Social-Science/Dictionary Mapping/Pipe')\n",
    "# df_for_plot.to_csv('NgramCountbySubjectandYear.csv')"
   ]
  },
  {
   "cell_type": "code",
   "execution_count": 24,
   "metadata": {},
   "outputs": [],
   "source": [
    "applied = df_for_subj.given_names.apply(lambda x: set(x) if isinstance(x, list) else {})\n",
    "unioned = set.union(*applied.values)\n",
    "unioned = unioned - set([None])\n",
    "result = ','.join(list(unioned))\n",
    "with open('given_names.txt', 'w') as f:\n",
    "    f.write(result)"
   ]
  },
  {
   "cell_type": "code",
   "execution_count": 34,
   "metadata": {},
   "outputs": [],
   "source": [
    "joined = df_for_subj.join(lang)\n",
    "joined = joined[joined.custom_meta_value.isin(('eng', 'en', 'EN'))]"
   ]
  },
  {
   "cell_type": "code",
   "execution_count": 35,
   "metadata": {},
   "outputs": [
    {
     "data": {
      "text/plain": [
       "(69680, 41)"
      ]
     },
     "execution_count": 35,
     "metadata": {},
     "output_type": "execute_result"
    }
   ],
   "source": [
    "joined.shape"
   ]
  },
  {
   "cell_type": "code",
   "execution_count": 26,
   "metadata": {},
   "outputs": [],
   "source": [
    "mismatch = joined[joined.language_1 != 'en']\n",
    "mismatch.to_csv('mismatch.csv')"
   ]
  },
  {
   "cell_type": "code",
   "execution_count": 27,
   "metadata": {},
   "outputs": [
    {
     "data": {
      "text/plain": [
       "(69659, 41)"
      ]
     },
     "execution_count": 27,
     "metadata": {},
     "output_type": "execute_result"
    }
   ],
   "source": [
    "joined = joined[joined.language_1 == 'en']\n",
    "joined.shape"
   ]
  },
  {
   "cell_type": "code",
   "execution_count": 28,
   "metadata": {},
   "outputs": [
    {
     "name": "stderr",
     "output_type": "stream",
     "text": [
      "/opt/conda/lib/python3.7/site-packages/pandas/core/generic.py:2377: PerformanceWarning: \n",
      "your performance may suffer as PyTables will pickle object types that it cannot\n",
      "map directly to c-types [inferred_type->mixed,key->block2_values] [items->['type', 'journal_id', 'journal_title', 'issn', 'article_id', 'article_name', 'given_names', 'surname', 'day', 'month', 'volume', 'issue', 'issue_id', 'fpage', 'lpage', 'jstor_url', 'abstract', 'given-names', 'string-name', 'custom_meta_value', 'primary_subject', 'language_1', 'language_1_prob', 'language_2', 'language_2_prob']]\n",
      "\n",
      "  return pytables.to_hdf(path_or_buf, key, self, **kwargs)\n"
     ]
    }
   ],
   "source": [
    "joined.to_hdf('filtered.h5', 'metadata')"
   ]
  },
  {
   "cell_type": "code",
   "execution_count": 29,
   "metadata": {},
   "outputs": [],
   "source": [
    "with open('filtered_index.csv', 'w') as f:\n",
    "    f.write('\\n'.join(joined.index))"
   ]
  },
  {
   "cell_type": "code",
   "execution_count": 30,
   "metadata": {},
   "outputs": [],
   "source": [
    "joined = df_for_subj.join(lang)"
   ]
  },
  {
   "cell_type": "code",
   "execution_count": 31,
   "metadata": {},
   "outputs": [
    {
     "data": {
      "text/plain": [
       "array(['https://www.jstor.org/stable/40226382',\n",
       "       'https://www.jstor.org/stable/40227124',\n",
       "       'https://www.jstor.org/stable/40226376',\n",
       "       'https://www.jstor.org/stable/40226111',\n",
       "       'https://www.jstor.org/stable/40226334',\n",
       "       'https://www.jstor.org/stable/40227222',\n",
       "       'https://www.jstor.org/stable/40226370',\n",
       "       'https://www.jstor.org/stable/40226329',\n",
       "       'https://www.jstor.org/stable/40227239'], dtype=object)"
      ]
     },
     "execution_count": 31,
     "metadata": {},
     "output_type": "execute_result"
    }
   ],
   "source": [
    "joined[(~joined.custom_meta_value.isin(('eng', 'en', 'EN'))) & (joined.language_1 == 'en')].jstor_url.values"
   ]
  },
  {
   "cell_type": "code",
   "execution_count": 32,
   "metadata": {},
   "outputs": [
    {
     "data": {
      "text/plain": [
       "Index(['ngram_1_count', 'culture_1_count', 'demographic_1_count',\n",
       "       'relational_1_count', 'ngram_2_count', 'culture_2_count',\n",
       "       'demographic_2_count', 'relational_2_count', 'ngram_3_count',\n",
       "       'culture_3_count', 'demographic_3_count', 'relational_3_count', 'type',\n",
       "       'journal_id', 'journal_title', 'issn', 'article_id', 'article_name',\n",
       "       'given_names', 'surname', 'day', 'month', 'year', 'volume', 'issue',\n",
       "       'issue_id', 'fpage', 'lpage', 'jstor_url', 'abstract', 'given-names',\n",
       "       'string-name', 'custom_meta_value', 'primary_subject',\n",
       "       'Final_Culture_Count', 'Final_Demographic_Count',\n",
       "       'Final_Relational_Count', 'language_1', 'language_1_prob', 'language_2',\n",
       "       'language_2_prob'],\n",
       "      dtype='object')"
      ]
     },
     "execution_count": 32,
     "metadata": {},
     "output_type": "execute_result"
    }
   ],
   "source": [
    "joined.columns"
   ]
  },
  {
   "cell_type": "code",
   "execution_count": 33,
   "metadata": {},
   "outputs": [
    {
     "data": {
      "text/plain": [
       "(70082, 41)"
      ]
     },
     "execution_count": 33,
     "metadata": {},
     "output_type": "execute_result"
    }
   ],
   "source": [
    "joined.shape"
   ]
  },
  {
   "cell_type": "code",
   "execution_count": null,
   "metadata": {},
   "outputs": [],
   "source": []
  }
 ],
 "metadata": {
  "kernelspec": {
   "display_name": "Python 3",
   "language": "python",
   "name": "python3"
  },
  "language_info": {
   "codemirror_mode": {
    "name": "ipython",
    "version": 3
   },
   "file_extension": ".py",
   "mimetype": "text/x-python",
   "name": "python",
   "nbconvert_exporter": "python",
   "pygments_lexer": "ipython3",
   "version": "3.7.3"
  }
 },
 "nbformat": 4,
 "nbformat_minor": 2
}
