{
 "cells": [
  {
   "cell_type": "code",
   "execution_count": 25,
   "metadata": {},
   "outputs": [
    {
     "name": "stdout",
     "output_type": "stream",
     "text": [
      "Collecting tqdm\n",
      "\u001b[?25l  Downloading https://files.pythonhosted.org/packages/c9/40/058b12e8ba10e35f89c9b1fdfc2d4c7f8c05947df2d5eb3c7b258019fda0/tqdm-4.46.0-py2.py3-none-any.whl (63kB)\n",
      "\u001b[K     |████████████████████████████████| 71kB 3.4MB/s eta 0:00:011\n",
      "\u001b[?25hInstalling collected packages: tqdm\n",
      "Successfully installed tqdm-4.46.0\n",
      "Collecting tables\n",
      "\u001b[?25l  Downloading https://files.pythonhosted.org/packages/0f/cb/4097be890a773af95343389faa8c283b0d9ff606f144227a548461dcbdd5/tables-3.6.1-cp37-cp37m-manylinux1_x86_64.whl (4.3MB)\n",
      "\u001b[K     |████████████████████████████████| 4.3MB 4.2MB/s eta 0:00:01\n",
      "\u001b[?25hRequirement already satisfied: numexpr>=2.6.2 in /opt/conda/lib/python3.7/site-packages (from tables) (2.6.9)\n",
      "Requirement already satisfied: numpy>=1.9.3 in /opt/conda/lib/python3.7/site-packages (from tables) (1.15.4)\n",
      "Installing collected packages: tables\n",
      "Successfully installed tables-3.6.1\n"
     ]
    }
   ],
   "source": [
    "!pip install tqdm\n",
    "!pip install tables\n",
    "from tqdm.notebook import tqdm"
   ]
  },
  {
   "cell_type": "markdown",
   "metadata": {},
   "source": [
    "Note: The cells that parse ngram files take an hour to run. "
   ]
  },
  {
   "cell_type": "code",
   "execution_count": 26,
   "metadata": {},
   "outputs": [],
   "source": [
    "import os\n",
    "import csv\n",
    "import pandas as pd"
   ]
  },
  {
   "cell_type": "code",
   "execution_count": 27,
   "metadata": {},
   "outputs": [],
   "source": [
    "JSTOR_HOME = \"../../../jstor_data\"\n",
    "INDICES = \"./filtered_index.csv\"\n",
    "\n",
    "demographic_authors = ['hannan freeman', 'barnett carroll', 'barron west', 'brüderl schüssler', 'carrol hannan', \n",
    "                       'freeman carrol', 'fichman levinthal', 'carrol']\n",
    "## Will leaving in single authors catch extra citations?\n",
    "\n",
    "relational_authors = ['pfeffer salancik', 'burt christman', 'pfeffer nowak', 'pfeffer']\n",
    "\n",
    "cultural_authors = ['meyer rowan', 'dimaggio powell', 'powell dimaggio', 'oliver', 'powell', 'scott', 'weick']\n",
    "\n",
    "ALL_AUTHORS = set(demographic_authors + relational_authors + cultural_authors)\n",
    "\n",
    "with open(INDICES, 'r') as f:\n",
    "    files = f.read().split('\\n')[:-1]\n"
   ]
  },
  {
   "cell_type": "code",
   "execution_count": 39,
   "metadata": {},
   "outputs": [],
   "source": [
    "expanded_dict_folder = \"../Dictionaries/Expanded/wordnet_english2/\"\n",
    "full_cultural = expanded_dict_folder + \"closest_culture_1000.csv\"\n",
    "full_relational = expanded_dict_folder + \"closest_relational_1000.csv\"\n",
    "full_demographic = expanded_dict_folder + \"closest_demographic_1000.csv\"\n",
    "full_cultural_set = set()\n",
    "full_relational_set = set()\n",
    "full_demographic_set = set()\n",
    "\n",
    "\n",
    "with open(full_cultural, 'r') as f:\n",
    "    reader = csv.reader(f)\n",
    "    for line in reader:\n",
    "        full_cultural_set.add(' '.join(line[0].split('_')))\n",
    "with open(full_demographic, 'r') as f:\n",
    "    reader = csv.reader(f)\n",
    "    for line in reader:\n",
    "        full_demographic_set.add(' '.join(line[0].split('_')))\n",
    "with open(full_relational, 'r') as f:\n",
    "    reader = csv.reader(f)\n",
    "    for line in reader:\n",
    "        full_relational_set.add(' '.join(line[0].split('_')))\n",
    "        \n",
    "all_terms = set.union(full_cultural_set, full_relational_set, full_demographic_set)"
   ]
  },
  {
   "cell_type": "code",
   "execution_count": 40,
   "metadata": {
    "scrolled": true
   },
   "outputs": [
    {
     "data": {
      "application/vnd.jupyter.widget-view+json": {
       "model_id": "38624ffc67544aa996ee57857b55c363",
       "version_major": 2,
       "version_minor": 0
      },
      "text/plain": [
       "HBox(children=(FloatProgress(value=0.0, max=69658.0), HTML(value='')))"
      ]
     },
     "metadata": {},
     "output_type": "display_data"
    },
    {
     "name": "stdout",
     "output_type": "stream",
     "text": [
      "\n"
     ]
    }
   ],
   "source": [
    "counts_df = pd.DataFrame(columns=[\"article_id\", \"cultural_author_count\", \"demographic_author_count\", \"relational_author_count\",\n",
    "                                 \"cultural_count2\", \"relational_count2\", \"demographic_count2\",\n",
    "                                 \"cultural_count1\", \"relational_count1\", \"demographic_count1\"]) \n",
    "NGRAM = 2 \n",
    "folder = os.path.join(JSTOR_HOME, 'ngram{}'.format(NGRAM))\n",
    "\n",
    "for file in tqdm(files):\n",
    "    with open(os.path.join(folder, '{}-ngram{}.txt'.format(file, NGRAM)), 'r') as f:\n",
    "        d = {}\n",
    "        row = {\"article_id\": file}\n",
    "\n",
    "        for line in f.read().splitlines():\n",
    "            k, v = line.split('\\t')\n",
    "            if k in ALL_AUTHORS or k in all_terms:\n",
    "                d[k] = int(v)\n",
    "\n",
    "        row[\"cultural_author_count\"] = sum([d.get(author, 0) for author in cultural_authors])\n",
    "        row[\"demographic_author_count\"] = sum([d.get(author, 0) for author in demographic_authors])\n",
    "        row[\"relational_author_count\"] = sum([d.get(author, 0) for author in relational_authors])\n",
    "        row[\"cultural_count2\"] = sum([d.get(term, 0) for term in full_cultural_set])\n",
    "        row[\"demographic_count2\"] = sum([d.get(term, 0) for term in full_demographic_set])\n",
    "        row[\"relational_count2\"] = sum([d.get(term, 0) for term in full_relational_set])\n",
    "\n",
    "        counts_df = counts_df.append(row, ignore_index=True)\n",
    "\n",
    "\n",
    "        "
   ]
  },
  {
   "cell_type": "code",
   "execution_count": 43,
   "metadata": {},
   "outputs": [
    {
     "data": {
      "text/html": [
       "<div>\n",
       "<style scoped>\n",
       "    .dataframe tbody tr th:only-of-type {\n",
       "        vertical-align: middle;\n",
       "    }\n",
       "\n",
       "    .dataframe tbody tr th {\n",
       "        vertical-align: top;\n",
       "    }\n",
       "\n",
       "    .dataframe thead th {\n",
       "        text-align: right;\n",
       "    }\n",
       "</style>\n",
       "<table border=\"1\" class=\"dataframe\">\n",
       "  <thead>\n",
       "    <tr style=\"text-align: right;\">\n",
       "      <th></th>\n",
       "      <th>cultural_author_count</th>\n",
       "      <th>demographic_author_count</th>\n",
       "      <th>relational_author_count</th>\n",
       "      <th>cultural_count2</th>\n",
       "      <th>relational_count2</th>\n",
       "      <th>demographic_count2</th>\n",
       "      <th>cultural_count1</th>\n",
       "      <th>relational_count1</th>\n",
       "      <th>demographic_count1</th>\n",
       "    </tr>\n",
       "    <tr>\n",
       "      <th>article_id</th>\n",
       "      <th></th>\n",
       "      <th></th>\n",
       "      <th></th>\n",
       "      <th></th>\n",
       "      <th></th>\n",
       "      <th></th>\n",
       "      <th></th>\n",
       "      <th></th>\n",
       "      <th></th>\n",
       "    </tr>\n",
       "  </thead>\n",
       "  <tbody>\n",
       "    <tr>\n",
       "      <th>journal-article-10.2307_2065002</th>\n",
       "      <td>0</td>\n",
       "      <td>0</td>\n",
       "      <td>0</td>\n",
       "      <td>0</td>\n",
       "      <td>2</td>\n",
       "      <td>1</td>\n",
       "      <td>NaN</td>\n",
       "      <td>NaN</td>\n",
       "      <td>NaN</td>\n",
       "    </tr>\n",
       "    <tr>\n",
       "      <th>journal-article-10.2307_3380821</th>\n",
       "      <td>0</td>\n",
       "      <td>0</td>\n",
       "      <td>0</td>\n",
       "      <td>0</td>\n",
       "      <td>1</td>\n",
       "      <td>0</td>\n",
       "      <td>NaN</td>\n",
       "      <td>NaN</td>\n",
       "      <td>NaN</td>\n",
       "    </tr>\n",
       "    <tr>\n",
       "      <th>journal-article-10.2307_2095822</th>\n",
       "      <td>0</td>\n",
       "      <td>0</td>\n",
       "      <td>0</td>\n",
       "      <td>0</td>\n",
       "      <td>0</td>\n",
       "      <td>0</td>\n",
       "      <td>NaN</td>\n",
       "      <td>NaN</td>\n",
       "      <td>NaN</td>\n",
       "    </tr>\n",
       "    <tr>\n",
       "      <th>journal-article-10.2307_2631839</th>\n",
       "      <td>0</td>\n",
       "      <td>0</td>\n",
       "      <td>0</td>\n",
       "      <td>0</td>\n",
       "      <td>0</td>\n",
       "      <td>0</td>\n",
       "      <td>NaN</td>\n",
       "      <td>NaN</td>\n",
       "      <td>NaN</td>\n",
       "    </tr>\n",
       "    <tr>\n",
       "      <th>journal-article-10.2307_40836133</th>\n",
       "      <td>0</td>\n",
       "      <td>0</td>\n",
       "      <td>0</td>\n",
       "      <td>0</td>\n",
       "      <td>40</td>\n",
       "      <td>33</td>\n",
       "      <td>NaN</td>\n",
       "      <td>NaN</td>\n",
       "      <td>NaN</td>\n",
       "    </tr>\n",
       "  </tbody>\n",
       "</table>\n",
       "</div>"
      ],
      "text/plain": [
       "                                 cultural_author_count  \\\n",
       "article_id                                               \n",
       "journal-article-10.2307_2065002                      0   \n",
       "journal-article-10.2307_3380821                      0   \n",
       "journal-article-10.2307_2095822                      0   \n",
       "journal-article-10.2307_2631839                      0   \n",
       "journal-article-10.2307_40836133                     0   \n",
       "\n",
       "                                 demographic_author_count  \\\n",
       "article_id                                                  \n",
       "journal-article-10.2307_2065002                         0   \n",
       "journal-article-10.2307_3380821                         0   \n",
       "journal-article-10.2307_2095822                         0   \n",
       "journal-article-10.2307_2631839                         0   \n",
       "journal-article-10.2307_40836133                        0   \n",
       "\n",
       "                                 relational_author_count cultural_count2  \\\n",
       "article_id                                                                 \n",
       "journal-article-10.2307_2065002                        0               0   \n",
       "journal-article-10.2307_3380821                        0               0   \n",
       "journal-article-10.2307_2095822                        0               0   \n",
       "journal-article-10.2307_2631839                        0               0   \n",
       "journal-article-10.2307_40836133                       0               0   \n",
       "\n",
       "                                 relational_count2 demographic_count2  \\\n",
       "article_id                                                              \n",
       "journal-article-10.2307_2065002                  2                  1   \n",
       "journal-article-10.2307_3380821                  1                  0   \n",
       "journal-article-10.2307_2095822                  0                  0   \n",
       "journal-article-10.2307_2631839                  0                  0   \n",
       "journal-article-10.2307_40836133                40                 33   \n",
       "\n",
       "                                 cultural_count1 relational_count1  \\\n",
       "article_id                                                           \n",
       "journal-article-10.2307_2065002              NaN               NaN   \n",
       "journal-article-10.2307_3380821              NaN               NaN   \n",
       "journal-article-10.2307_2095822              NaN               NaN   \n",
       "journal-article-10.2307_2631839              NaN               NaN   \n",
       "journal-article-10.2307_40836133             NaN               NaN   \n",
       "\n",
       "                                 demographic_count1  \n",
       "article_id                                           \n",
       "journal-article-10.2307_2065002                 NaN  \n",
       "journal-article-10.2307_3380821                 NaN  \n",
       "journal-article-10.2307_2095822                 NaN  \n",
       "journal-article-10.2307_2631839                 NaN  \n",
       "journal-article-10.2307_40836133                NaN  "
      ]
     },
     "execution_count": 43,
     "metadata": {},
     "output_type": "execute_result"
    }
   ],
   "source": [
    "counts_df = counts_df.set_index('article_id')\n",
    "counts_df.head()"
   ]
  },
  {
   "cell_type": "code",
   "execution_count": 44,
   "metadata": {},
   "outputs": [
    {
     "data": {
      "application/vnd.jupyter.widget-view+json": {
       "model_id": "b3e78e6f7e8e4c0cb436c8052d75bc13",
       "version_major": 2,
       "version_minor": 0
      },
      "text/plain": [
       "HBox(children=(FloatProgress(value=0.0, max=69658.0), HTML(value='')))"
      ]
     },
     "metadata": {},
     "output_type": "display_data"
    },
    {
     "name": "stdout",
     "output_type": "stream",
     "text": [
      "\n"
     ]
    }
   ],
   "source": [
    "NGRAM = 1 \n",
    "folder = os.path.join(JSTOR_HOME, 'ngram{}'.format(NGRAM))\n",
    "\n",
    "for file in tqdm(files):\n",
    "    with open(os.path.join(folder, '{}-ngram{}.txt'.format(file, NGRAM)), 'r') as f:\n",
    "        d = {}\n",
    "        for line in f.read().splitlines():\n",
    "            k, v = line.split('\\t')\n",
    "            if k in ALL_AUTHORS or k in all_terms:\n",
    "                d[k] = int(v)\n",
    "        counts_df.at[file, \"cultural_author_count\"] = sum([d.get(author, 0) for author in cultural_authors])\n",
    "        counts_df.at[file, \"demographic_author_count\"] = sum([d.get(author, 0) for author in demographic_authors])\n",
    "        counts_df.at[file, \"relational_author_count\"] = sum([d.get(author, 0) for author in relational_authors])\n",
    "        \n",
    "        counts_df.at[file, \"cultural_count1\"] = sum([d.get(term, 0) for term in full_cultural_set])\n",
    "        counts_df.at[file, \"demographic_count1\"] = sum([d.get(term, 0) for term in full_demographic_set])\n",
    "        counts_df.at[file, \"relational_count1\"] = sum([d.get(term, 0) for term in full_relational_set])\n"
   ]
  },
  {
   "cell_type": "code",
   "execution_count": 45,
   "metadata": {},
   "outputs": [
    {
     "data": {
      "text/plain": [
       "cultural_author_count          60543.0\n",
       "demographic_author_count         264.0\n",
       "relational_author_count        10467.0\n",
       "cultural_count2                52010.0\n",
       "relational_count2             410184.0\n",
       "demographic_count2            278936.0\n",
       "cultural_count1              7994280.0\n",
       "relational_count1           10019502.0\n",
       "demographic_count1           5484991.0\n",
       "dtype: float64"
      ]
     },
     "execution_count": 45,
     "metadata": {},
     "output_type": "execute_result"
    }
   ],
   "source": [
    "counts_df.sum()"
   ]
  },
  {
   "cell_type": "code",
   "execution_count": 47,
   "metadata": {},
   "outputs": [],
   "source": [
    "counts_df.to_csv('citation_and_expanded_dict_count_may7.csv', index=True)"
   ]
  },
  {
   "cell_type": "code",
   "execution_count": null,
   "metadata": {},
   "outputs": [],
   "source": []
  }
 ],
 "metadata": {
  "kernelspec": {
   "display_name": "Python 3",
   "language": "python",
   "name": "python3"
  },
  "language_info": {
   "codemirror_mode": {
    "name": "ipython",
    "version": 3
   },
   "file_extension": ".py",
   "mimetype": "text/x-python",
   "name": "python",
   "nbconvert_exporter": "python",
   "pygments_lexer": "ipython3",
   "version": "3.7.3"
  }
 },
 "nbformat": 4,
 "nbformat_minor": 2
}
