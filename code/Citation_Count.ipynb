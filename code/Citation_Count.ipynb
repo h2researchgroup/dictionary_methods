{
 "cells": [
  {
   "cell_type": "markdown",
   "id": "bc4a204a",
   "metadata": {},
   "source": [
    "# Citation Counting\n",
    "\n",
    "@authors: Zekai Fan, UC Berkeley; Deepak Ragu, UC Berkeley; Jaren Haber, PhD, Dartmouth College <br>\n",
    "@PI: Prof. Heather Haveman, UC Berkeley <br>\n",
    "#date_modified: December 2022 <br>\n",
    "@contact: jhaber@berkeley.edu <br>\n",
    "@inputs: list of authors <br>\n",
    "@outputs: count of authors (citation_and_expanded_dict_count_{thisdate}.csv), where 'thisdate' is in mmddyy format <br>\n",
    "@description: Counts references to canonical authors in articles by ngrams. This guide will help users update works and get new word counts for new authors by outlining and explaining key code sections. <br>"
   ]
  },
  {
   "cell_type": "markdown",
   "id": "2d798d7a",
   "metadata": {},
   "source": [
    "## Setup"
   ]
  },
  {
   "cell_type": "markdown",
   "id": "72b275bc",
   "metadata": {},
   "source": [
    "First, we will ensure we have all the necessary tools installed and imported"
   ]
  },
  {
   "cell_type": "code",
   "execution_count": 1,
   "id": "206819ad",
   "metadata": {},
   "outputs": [],
   "source": [
    "#!pip install tqdm\n",
    "#!pip install tables\n",
    "from tqdm.notebook import tqdm"
   ]
  },
  {
   "cell_type": "code",
   "execution_count": 2,
   "id": "86d9b23b",
   "metadata": {},
   "outputs": [],
   "source": [
    "import os\n",
    "import csv\n",
    "import pandas as pd\n",
    "from datetime import date\n",
    "thisday = date.today().strftime(\"%m%d%y\")"
   ]
  },
  {
   "cell_type": "markdown",
   "id": "62ed385f",
   "metadata": {},
   "source": [
    "Next, we will set up the necessary filepaths to read our JSTOR data. First, we will define our JSTOR HOME data filepath. Next, we'll define our ngram.txt filepaths by reading in filtered_index.csv. Finally, we will read in the expanded dictionary files for cultural, relational, and demographic sets. "
   ]
  },
  {
   "cell_type": "code",
   "execution_count": 3,
   "id": "e512f277",
   "metadata": {},
   "outputs": [],
   "source": [
    "JSTOR_HOME = \"../../jstor_data\""
   ]
  },
  {
   "cell_type": "code",
   "execution_count": 4,
   "id": "fee9d8c1",
   "metadata": {},
   "outputs": [],
   "source": [
    "INDICES = \"../article_data/filtered_length_index.csv\"\n",
    "\n",
    "with open(INDICES, 'r') as f:\n",
    "    files = f.read().split('\\n')[:-1]\n",
    "    files = [fp.split(',')[1] for fp in files[:500]]"
   ]
  },
  {
   "cell_type": "code",
   "execution_count": 5,
   "id": "6e8f44d9",
   "metadata": {},
   "outputs": [],
   "source": [
    "# expanded_dict_folder = \"../Dictionaries/Expanded/wordnet_english2/\"\n",
    "expanded_dict_folder = \"../dictionaries/expanded/\"\n",
    "full_cultural = expanded_dict_folder + \"closest_culture_1000.csv\"\n",
    "full_relational = expanded_dict_folder + \"closest_relational_1000.csv\"\n",
    "full_demographic = expanded_dict_folder + \"closest_demographic_1000.csv\"\n",
    "full_cultural_set = set()\n",
    "full_relational_set = set()\n",
    "full_demographic_set = set()\n",
    "\n",
    "csv_lst = [full_cultural, full_demographic, full_relational]\n",
    "set_lst = [full_cultural_set, full_demographic_set, full_relational_set]\n",
    "\n",
    "for i in range(3):\n",
    "    with open(csv_lst[i], 'r') as f:\n",
    "        reader = csv.reader(f)\n",
    "        for line in reader:\n",
    "            set_lst[i].add(' '.join(line[0].split('_')))\n",
    "\n",
    "        \n",
    "all_terms = set.union(full_cultural_set, full_relational_set, full_demographic_set)"
   ]
  },
  {
   "cell_type": "code",
   "execution_count": 6,
   "id": "1f7aa7a6",
   "metadata": {},
   "outputs": [
    {
     "data": {
      "text/plain": [
       "[['gave rise',\n",
       "  'superseded',\n",
       "  'vulgar',\n",
       "  'imagines',\n",
       "  'everyday',\n",
       "  'argues',\n",
       "  'representations',\n",
       "  'imagined',\n",
       "  'deconstructionist',\n",
       "  'totalitarian'],\n",
       " ['font libraries',\n",
       "  'dedicated biotechnology',\n",
       "  'enjoyed netscape',\n",
       "  'taper integration',\n",
       "  'blade server',\n",
       "  'cosmetic speculative',\n",
       "  'breweries carroll',\n",
       "  'convergence upheaval',\n",
       "  'expropriation bonding',\n",
       "  'mover disadvantages'],\n",
       " ['font libraries',\n",
       "  'interdependences',\n",
       "  'owner managed',\n",
       "  'dedicated biotechnology',\n",
       "  'executive compensation',\n",
       "  'taper integration',\n",
       "  'cash flow',\n",
       "  'portfolio restructuring',\n",
       "  'deeds hill',\n",
       "  'opportunism']]"
      ]
     },
     "execution_count": 6,
     "metadata": {},
     "output_type": "execute_result"
    }
   ],
   "source": [
    "# Show dictionaries\n",
    "[list(termlist)[:10] for termlist in set_lst]"
   ]
  },
  {
   "cell_type": "markdown",
   "id": "068ffc84",
   "metadata": {},
   "source": [
    "## Update Words"
   ]
  },
  {
   "cell_type": "markdown",
   "id": "e702a637",
   "metadata": {},
   "source": [
    "Here, we'll create a list of the authors we want to find within our citation, categorizing them as demographic, relational, or cultural. Edit the python lists in the following code snipped by adding or removing authors in order to get new or updated word counts for specific authors"
   ]
  },
  {
   "cell_type": "markdown",
   "id": "b4cf7ec3",
   "metadata": {},
   "source": [
    "### Capture author citations"
   ]
  },
  {
   "cell_type": "code",
   "execution_count": 7,
   "id": "0860fb60",
   "metadata": {},
   "outputs": [],
   "source": [
    "cultural_authors = ['meyer rowan', 'dimaggio powell', 'powell dimaggio', 'oliver', 'powell', 'scott', 'weick']\n",
    "\n",
    "demographic_authors = ['hannan freeman', 'barnett carroll', 'barron west', 'brüderl schüssler', 'carrol hannan', \n",
    "                       'freeman carrol', 'fichman levinthal', 'carrol']\n",
    "\n",
    "relational_authors = ['pfeffer salancik', 'burt christman', 'pfeffer nowak', 'pfeffer']\n",
    "\n",
    "ALL_AUTHORS = set(demographic_authors + relational_authors + cultural_authors)\n",
    "\n",
    "author_types_list = [cultural_authors, demographic_authors, relational_authors]"
   ]
  },
  {
   "cell_type": "markdown",
   "id": "fe5847c7",
   "metadata": {},
   "source": [
    "### Capture foundational terms (using dictionaries)"
   ]
  },
  {
   "cell_type": "code",
   "execution_count": 8,
   "id": "aa0d1fa4",
   "metadata": {},
   "outputs": [],
   "source": [
    "# Load original dictionaries\n",
    "cult_orig = pd.read_csv('../dictionaries/original/cultural_original.csv', delimiter = '\\n', \n",
    "                        header=None)[0].apply(lambda x: x.replace(',', ' '))\n",
    "cultural_authors = cult_orig.tolist()\n",
    "\n",
    "dem_orig = pd.read_csv('../dictionaries/original/demographic_original.csv', delimiter = '\\n', \n",
    "                       header=None)[0].apply(lambda x: x.replace(',', ' '))\n",
    "demographic_authors = dem_orig.tolist()\n",
    "\n",
    "relt_orig = pd.read_csv('../dictionaries/original/relational_original.csv', delimiter = '\\n', \n",
    "                        header=None)[0].apply(lambda x: x.replace(',', ' '))\n",
    "relational_authors = relt_orig.tolist()\n",
    "\n",
    "ALL_AUTHORS = set(cultural_authors + demographic_authors + relational_authors) # full list of dictionaries\n",
    "\n",
    "author_types_list = [cultural_authors, demographic_authors, relational_authors]"
   ]
  },
  {
   "cell_type": "markdown",
   "id": "deba0509",
   "metadata": {},
   "source": [
    "## Word Counts\n",
    "\n",
    "Using the ngram.txt files we previously read in from filtered_index.csv, we will now parse the ngram files and collect and store the word counts of various authors mentioned in the citations of the JSTOR Articles. After creating this dataframe, we can take a look at the total number of words for each category (i.e. cultural, demographic, relational) "
   ]
  },
  {
   "cell_type": "markdown",
   "id": "3b1d5088",
   "metadata": {},
   "source": [
    "First, we'll create our dataframe that will contain our final information, as well as a list containing the names of the various perspectives we use when collecting ngram counts."
   ]
  },
  {
   "cell_type": "code",
   "execution_count": 9,
   "id": "0c3eb134",
   "metadata": {},
   "outputs": [],
   "source": [
    "counts_df = pd.DataFrame(columns=[\"article_id\", \"cultural_author_count\", \"demographic_author_count\", \"relational_author_count\",\n",
    "                                 \"cultural_count3\", \"demographic_count3\", \"relational_count3\", \n",
    "                                 \"cultural_count2\", \"demographic_count2\", \"relational_count2\", \n",
    "                                 \"cultural_count1\", \"demographic_count1\", \"relational_count1\"]) \n",
    "\n",
    "perspective_types = [\"cultural\", \"demographic\", \"relational\"]"
   ]
  },
  {
   "cell_type": "code",
   "execution_count": 10,
   "id": "06fc791a",
   "metadata": {},
   "outputs": [],
   "source": [
    "def generate_ngram_counts(ngram_value, counts_df):\n",
    "    '''Generates ngram counts by parsing through JSTOR article files, and collecting and storing the word counts \n",
    "    for the authors mentioned in the JSTOR article. \n",
    "    \n",
    "    Args: \n",
    "        ngram_value (int): how many words to count: 1 = unigram, 2 = bigram, 3 = trigram\n",
    "        counts_df(pd.DataFrame): the dataframe to update'''\n",
    "    \n",
    "    folder = os.path.join(JSTOR_HOME, 'ngram{}'.format(ngram_value))\n",
    "\n",
    "    for file in tqdm(files):\n",
    "        with open(os.path.join(folder, '{}-ngram{}.txt'.format(file, ngram_value)), 'r') as f:\n",
    "\n",
    "            d = {}\n",
    "\n",
    "            for line in f.read().splitlines():\n",
    "                k, v = line.split('\\t')\n",
    "                if k in ALL_AUTHORS or k in all_terms:\n",
    "                    d[k] = int(v)\n",
    "                    \n",
    "            author_sums = [sum([d.get(author, 0) for author in author_list]) for author_list in author_types_list]\n",
    "            term_sums = [sum([d.get(term, 0) for term in set_type]) for set_type in set_lst]\n",
    "\n",
    "            row = {\"article_id\": file}\n",
    "            for i in range(3):\n",
    "                row[perspective_types[i] + \"_author_count\"] = author_sums[i]\n",
    "                row[perspective_types[i] + \"_count\" + str(ngram_value)] = term_sums[i]\n",
    "\n",
    "            counts_df = counts_df.append(row, ignore_index=True)\n",
    "            \n",
    "    return counts_df"
   ]
  },
  {
   "cell_type": "markdown",
   "id": "85b156bc",
   "metadata": {},
   "source": [
    "### Trigrams (3 words)"
   ]
  },
  {
   "cell_type": "code",
   "execution_count": 11,
   "id": "1d6b0d59",
   "metadata": {},
   "outputs": [
    {
     "data": {
      "application/vnd.jupyter.widget-view+json": {
       "model_id": "8f36fccbec9546c6984b4d0b67feba03",
       "version_major": 2,
       "version_minor": 0
      },
      "text/plain": [
       "  0%|          | 0/500 [00:00<?, ?it/s]"
      ]
     },
     "metadata": {},
     "output_type": "display_data"
    },
    {
     "data": {
      "text/html": [
       "<div>\n",
       "<style scoped>\n",
       "    .dataframe tbody tr th:only-of-type {\n",
       "        vertical-align: middle;\n",
       "    }\n",
       "\n",
       "    .dataframe tbody tr th {\n",
       "        vertical-align: top;\n",
       "    }\n",
       "\n",
       "    .dataframe thead th {\n",
       "        text-align: right;\n",
       "    }\n",
       "</style>\n",
       "<table border=\"1\" class=\"dataframe\">\n",
       "  <thead>\n",
       "    <tr style=\"text-align: right;\">\n",
       "      <th></th>\n",
       "      <th>article_id</th>\n",
       "      <th>cultural_author_count</th>\n",
       "      <th>demographic_author_count</th>\n",
       "      <th>relational_author_count</th>\n",
       "      <th>cultural_count3</th>\n",
       "      <th>demographic_count3</th>\n",
       "      <th>relational_count3</th>\n",
       "      <th>cultural_count2</th>\n",
       "      <th>demographic_count2</th>\n",
       "      <th>relational_count2</th>\n",
       "      <th>cultural_count1</th>\n",
       "      <th>demographic_count1</th>\n",
       "      <th>relational_count1</th>\n",
       "    </tr>\n",
       "  </thead>\n",
       "  <tbody>\n",
       "    <tr>\n",
       "      <th>0</th>\n",
       "      <td>journal-article-10.2307_2065002</td>\n",
       "      <td>0</td>\n",
       "      <td>0</td>\n",
       "      <td>0</td>\n",
       "      <td>0</td>\n",
       "      <td>0</td>\n",
       "      <td>0</td>\n",
       "      <td>NaN</td>\n",
       "      <td>NaN</td>\n",
       "      <td>NaN</td>\n",
       "      <td>NaN</td>\n",
       "      <td>NaN</td>\n",
       "      <td>NaN</td>\n",
       "    </tr>\n",
       "    <tr>\n",
       "      <th>1</th>\n",
       "      <td>journal-article-10.2307_3380821</td>\n",
       "      <td>0</td>\n",
       "      <td>0</td>\n",
       "      <td>0</td>\n",
       "      <td>0</td>\n",
       "      <td>0</td>\n",
       "      <td>0</td>\n",
       "      <td>NaN</td>\n",
       "      <td>NaN</td>\n",
       "      <td>NaN</td>\n",
       "      <td>NaN</td>\n",
       "      <td>NaN</td>\n",
       "      <td>NaN</td>\n",
       "    </tr>\n",
       "    <tr>\n",
       "      <th>2</th>\n",
       "      <td>journal-article-10.2307_2095822</td>\n",
       "      <td>0</td>\n",
       "      <td>0</td>\n",
       "      <td>0</td>\n",
       "      <td>0</td>\n",
       "      <td>0</td>\n",
       "      <td>0</td>\n",
       "      <td>NaN</td>\n",
       "      <td>NaN</td>\n",
       "      <td>NaN</td>\n",
       "      <td>NaN</td>\n",
       "      <td>NaN</td>\n",
       "      <td>NaN</td>\n",
       "    </tr>\n",
       "    <tr>\n",
       "      <th>3</th>\n",
       "      <td>journal-article-10.2307_40836133</td>\n",
       "      <td>0</td>\n",
       "      <td>0</td>\n",
       "      <td>0</td>\n",
       "      <td>0</td>\n",
       "      <td>0</td>\n",
       "      <td>0</td>\n",
       "      <td>NaN</td>\n",
       "      <td>NaN</td>\n",
       "      <td>NaN</td>\n",
       "      <td>NaN</td>\n",
       "      <td>NaN</td>\n",
       "      <td>NaN</td>\n",
       "    </tr>\n",
       "    <tr>\n",
       "      <th>4</th>\n",
       "      <td>journal-article-10.2307_2579666</td>\n",
       "      <td>0</td>\n",
       "      <td>0</td>\n",
       "      <td>0</td>\n",
       "      <td>0</td>\n",
       "      <td>0</td>\n",
       "      <td>0</td>\n",
       "      <td>NaN</td>\n",
       "      <td>NaN</td>\n",
       "      <td>NaN</td>\n",
       "      <td>NaN</td>\n",
       "      <td>NaN</td>\n",
       "      <td>NaN</td>\n",
       "    </tr>\n",
       "  </tbody>\n",
       "</table>\n",
       "</div>"
      ],
      "text/plain": [
       "                         article_id cultural_author_count  \\\n",
       "0   journal-article-10.2307_2065002                     0   \n",
       "1   journal-article-10.2307_3380821                     0   \n",
       "2   journal-article-10.2307_2095822                     0   \n",
       "3  journal-article-10.2307_40836133                     0   \n",
       "4   journal-article-10.2307_2579666                     0   \n",
       "\n",
       "  demographic_author_count relational_author_count cultural_count3  \\\n",
       "0                        0                       0               0   \n",
       "1                        0                       0               0   \n",
       "2                        0                       0               0   \n",
       "3                        0                       0               0   \n",
       "4                        0                       0               0   \n",
       "\n",
       "  demographic_count3 relational_count3 cultural_count2 demographic_count2  \\\n",
       "0                  0                 0             NaN                NaN   \n",
       "1                  0                 0             NaN                NaN   \n",
       "2                  0                 0             NaN                NaN   \n",
       "3                  0                 0             NaN                NaN   \n",
       "4                  0                 0             NaN                NaN   \n",
       "\n",
       "  relational_count2 cultural_count1 demographic_count1 relational_count1  \n",
       "0               NaN             NaN                NaN               NaN  \n",
       "1               NaN             NaN                NaN               NaN  \n",
       "2               NaN             NaN                NaN               NaN  \n",
       "3               NaN             NaN                NaN               NaN  \n",
       "4               NaN             NaN                NaN               NaN  "
      ]
     },
     "execution_count": 11,
     "metadata": {},
     "output_type": "execute_result"
    }
   ],
   "source": [
    "counts_df = generate_ngram_counts(3, counts_df)\n",
    "counts_df.head()"
   ]
  },
  {
   "cell_type": "code",
   "execution_count": 12,
   "id": "b294f92b",
   "metadata": {
    "scrolled": true
   },
   "outputs": [
    {
     "data": {
      "text/plain": [
       "article_id                  journal-article-10.2307_2065002journal-article...\n",
       "cultural_author_count                                                       0\n",
       "demographic_author_count                                                    2\n",
       "relational_author_count                                                     0\n",
       "cultural_count3                                                             0\n",
       "demographic_count3                                                          0\n",
       "relational_count3                                                           0\n",
       "cultural_count2                                                             0\n",
       "demographic_count2                                                          0\n",
       "relational_count2                                                           0\n",
       "cultural_count1                                                             0\n",
       "demographic_count1                                                          0\n",
       "relational_count1                                                           0\n",
       "dtype: object"
      ]
     },
     "execution_count": 12,
     "metadata": {},
     "output_type": "execute_result"
    }
   ],
   "source": [
    "counts_df.sum()"
   ]
  },
  {
   "cell_type": "markdown",
   "id": "e19b930f",
   "metadata": {},
   "source": [
    "### Bigrams (2 words)"
   ]
  },
  {
   "cell_type": "code",
   "execution_count": 13,
   "id": "24eb3885",
   "metadata": {},
   "outputs": [
    {
     "data": {
      "application/vnd.jupyter.widget-view+json": {
       "model_id": "e3ac44e4d59a48b783d46466fe532c79",
       "version_major": 2,
       "version_minor": 0
      },
      "text/plain": [
       "  0%|          | 0/500 [00:00<?, ?it/s]"
      ]
     },
     "metadata": {},
     "output_type": "display_data"
    },
    {
     "data": {
      "text/html": [
       "<div>\n",
       "<style scoped>\n",
       "    .dataframe tbody tr th:only-of-type {\n",
       "        vertical-align: middle;\n",
       "    }\n",
       "\n",
       "    .dataframe tbody tr th {\n",
       "        vertical-align: top;\n",
       "    }\n",
       "\n",
       "    .dataframe thead th {\n",
       "        text-align: right;\n",
       "    }\n",
       "</style>\n",
       "<table border=\"1\" class=\"dataframe\">\n",
       "  <thead>\n",
       "    <tr style=\"text-align: right;\">\n",
       "      <th></th>\n",
       "      <th>article_id</th>\n",
       "      <th>cultural_author_count</th>\n",
       "      <th>demographic_author_count</th>\n",
       "      <th>relational_author_count</th>\n",
       "      <th>cultural_count3</th>\n",
       "      <th>demographic_count3</th>\n",
       "      <th>relational_count3</th>\n",
       "      <th>cultural_count2</th>\n",
       "      <th>demographic_count2</th>\n",
       "      <th>relational_count2</th>\n",
       "      <th>cultural_count1</th>\n",
       "      <th>demographic_count1</th>\n",
       "      <th>relational_count1</th>\n",
       "    </tr>\n",
       "  </thead>\n",
       "  <tbody>\n",
       "    <tr>\n",
       "      <th>0</th>\n",
       "      <td>journal-article-10.2307_2065002</td>\n",
       "      <td>0</td>\n",
       "      <td>0</td>\n",
       "      <td>0</td>\n",
       "      <td>0</td>\n",
       "      <td>0</td>\n",
       "      <td>0</td>\n",
       "      <td>NaN</td>\n",
       "      <td>NaN</td>\n",
       "      <td>NaN</td>\n",
       "      <td>NaN</td>\n",
       "      <td>NaN</td>\n",
       "      <td>NaN</td>\n",
       "    </tr>\n",
       "    <tr>\n",
       "      <th>1</th>\n",
       "      <td>journal-article-10.2307_3380821</td>\n",
       "      <td>0</td>\n",
       "      <td>0</td>\n",
       "      <td>0</td>\n",
       "      <td>0</td>\n",
       "      <td>0</td>\n",
       "      <td>0</td>\n",
       "      <td>NaN</td>\n",
       "      <td>NaN</td>\n",
       "      <td>NaN</td>\n",
       "      <td>NaN</td>\n",
       "      <td>NaN</td>\n",
       "      <td>NaN</td>\n",
       "    </tr>\n",
       "    <tr>\n",
       "      <th>2</th>\n",
       "      <td>journal-article-10.2307_2095822</td>\n",
       "      <td>0</td>\n",
       "      <td>0</td>\n",
       "      <td>0</td>\n",
       "      <td>0</td>\n",
       "      <td>0</td>\n",
       "      <td>0</td>\n",
       "      <td>NaN</td>\n",
       "      <td>NaN</td>\n",
       "      <td>NaN</td>\n",
       "      <td>NaN</td>\n",
       "      <td>NaN</td>\n",
       "      <td>NaN</td>\n",
       "    </tr>\n",
       "    <tr>\n",
       "      <th>3</th>\n",
       "      <td>journal-article-10.2307_40836133</td>\n",
       "      <td>0</td>\n",
       "      <td>0</td>\n",
       "      <td>0</td>\n",
       "      <td>0</td>\n",
       "      <td>0</td>\n",
       "      <td>0</td>\n",
       "      <td>NaN</td>\n",
       "      <td>NaN</td>\n",
       "      <td>NaN</td>\n",
       "      <td>NaN</td>\n",
       "      <td>NaN</td>\n",
       "      <td>NaN</td>\n",
       "    </tr>\n",
       "    <tr>\n",
       "      <th>4</th>\n",
       "      <td>journal-article-10.2307_2579666</td>\n",
       "      <td>0</td>\n",
       "      <td>0</td>\n",
       "      <td>0</td>\n",
       "      <td>0</td>\n",
       "      <td>0</td>\n",
       "      <td>0</td>\n",
       "      <td>NaN</td>\n",
       "      <td>NaN</td>\n",
       "      <td>NaN</td>\n",
       "      <td>NaN</td>\n",
       "      <td>NaN</td>\n",
       "      <td>NaN</td>\n",
       "    </tr>\n",
       "  </tbody>\n",
       "</table>\n",
       "</div>"
      ],
      "text/plain": [
       "                         article_id cultural_author_count  \\\n",
       "0   journal-article-10.2307_2065002                     0   \n",
       "1   journal-article-10.2307_3380821                     0   \n",
       "2   journal-article-10.2307_2095822                     0   \n",
       "3  journal-article-10.2307_40836133                     0   \n",
       "4   journal-article-10.2307_2579666                     0   \n",
       "\n",
       "  demographic_author_count relational_author_count cultural_count3  \\\n",
       "0                        0                       0               0   \n",
       "1                        0                       0               0   \n",
       "2                        0                       0               0   \n",
       "3                        0                       0               0   \n",
       "4                        0                       0               0   \n",
       "\n",
       "  demographic_count3 relational_count3 cultural_count2 demographic_count2  \\\n",
       "0                  0                 0             NaN                NaN   \n",
       "1                  0                 0             NaN                NaN   \n",
       "2                  0                 0             NaN                NaN   \n",
       "3                  0                 0             NaN                NaN   \n",
       "4                  0                 0             NaN                NaN   \n",
       "\n",
       "  relational_count2 cultural_count1 demographic_count1 relational_count1  \n",
       "0               NaN             NaN                NaN               NaN  \n",
       "1               NaN             NaN                NaN               NaN  \n",
       "2               NaN             NaN                NaN               NaN  \n",
       "3               NaN             NaN                NaN               NaN  \n",
       "4               NaN             NaN                NaN               NaN  "
      ]
     },
     "execution_count": 13,
     "metadata": {},
     "output_type": "execute_result"
    }
   ],
   "source": [
    "counts_df = generate_ngram_counts(2, counts_df)\n",
    "counts_df.head()"
   ]
  },
  {
   "cell_type": "code",
   "execution_count": 14,
   "id": "ce6a2324",
   "metadata": {
    "scrolled": true
   },
   "outputs": [
    {
     "data": {
      "text/plain": [
       "article_id                  journal-article-10.2307_2065002journal-article...\n",
       "cultural_author_count                                                     170\n",
       "demographic_author_count                                                  558\n",
       "relational_author_count                                                   735\n",
       "cultural_count3                                                             0\n",
       "demographic_count3                                                          0\n",
       "relational_count3                                                           0\n",
       "cultural_count2                                                           633\n",
       "demographic_count2                                                       2488\n",
       "relational_count2                                                        3591\n",
       "cultural_count1                                                             0\n",
       "demographic_count1                                                          0\n",
       "relational_count1                                                           0\n",
       "dtype: object"
      ]
     },
     "execution_count": 14,
     "metadata": {},
     "output_type": "execute_result"
    }
   ],
   "source": [
    "counts_df.sum()"
   ]
  },
  {
   "cell_type": "markdown",
   "id": "342e868b",
   "metadata": {},
   "source": [
    "### Unigrams (1 word)"
   ]
  },
  {
   "cell_type": "code",
   "execution_count": 15,
   "id": "4f1195a1",
   "metadata": {},
   "outputs": [
    {
     "data": {
      "application/vnd.jupyter.widget-view+json": {
       "model_id": "c1ca2385bd3849afae9fc16afb016830",
       "version_major": 2,
       "version_minor": 0
      },
      "text/plain": [
       "  0%|          | 0/500 [00:00<?, ?it/s]"
      ]
     },
     "metadata": {},
     "output_type": "display_data"
    },
    {
     "data": {
      "text/html": [
       "<div>\n",
       "<style scoped>\n",
       "    .dataframe tbody tr th:only-of-type {\n",
       "        vertical-align: middle;\n",
       "    }\n",
       "\n",
       "    .dataframe tbody tr th {\n",
       "        vertical-align: top;\n",
       "    }\n",
       "\n",
       "    .dataframe thead th {\n",
       "        text-align: right;\n",
       "    }\n",
       "</style>\n",
       "<table border=\"1\" class=\"dataframe\">\n",
       "  <thead>\n",
       "    <tr style=\"text-align: right;\">\n",
       "      <th></th>\n",
       "      <th>article_id</th>\n",
       "      <th>cultural_author_count</th>\n",
       "      <th>demographic_author_count</th>\n",
       "      <th>relational_author_count</th>\n",
       "      <th>cultural_count3</th>\n",
       "      <th>demographic_count3</th>\n",
       "      <th>relational_count3</th>\n",
       "      <th>cultural_count2</th>\n",
       "      <th>demographic_count2</th>\n",
       "      <th>relational_count2</th>\n",
       "      <th>cultural_count1</th>\n",
       "      <th>demographic_count1</th>\n",
       "      <th>relational_count1</th>\n",
       "    </tr>\n",
       "  </thead>\n",
       "  <tbody>\n",
       "    <tr>\n",
       "      <th>0</th>\n",
       "      <td>journal-article-10.2307_2065002</td>\n",
       "      <td>0</td>\n",
       "      <td>0</td>\n",
       "      <td>0</td>\n",
       "      <td>0</td>\n",
       "      <td>0</td>\n",
       "      <td>0</td>\n",
       "      <td>NaN</td>\n",
       "      <td>NaN</td>\n",
       "      <td>NaN</td>\n",
       "      <td>NaN</td>\n",
       "      <td>NaN</td>\n",
       "      <td>NaN</td>\n",
       "    </tr>\n",
       "    <tr>\n",
       "      <th>1</th>\n",
       "      <td>journal-article-10.2307_3380821</td>\n",
       "      <td>0</td>\n",
       "      <td>0</td>\n",
       "      <td>0</td>\n",
       "      <td>0</td>\n",
       "      <td>0</td>\n",
       "      <td>0</td>\n",
       "      <td>NaN</td>\n",
       "      <td>NaN</td>\n",
       "      <td>NaN</td>\n",
       "      <td>NaN</td>\n",
       "      <td>NaN</td>\n",
       "      <td>NaN</td>\n",
       "    </tr>\n",
       "    <tr>\n",
       "      <th>2</th>\n",
       "      <td>journal-article-10.2307_2095822</td>\n",
       "      <td>0</td>\n",
       "      <td>0</td>\n",
       "      <td>0</td>\n",
       "      <td>0</td>\n",
       "      <td>0</td>\n",
       "      <td>0</td>\n",
       "      <td>NaN</td>\n",
       "      <td>NaN</td>\n",
       "      <td>NaN</td>\n",
       "      <td>NaN</td>\n",
       "      <td>NaN</td>\n",
       "      <td>NaN</td>\n",
       "    </tr>\n",
       "    <tr>\n",
       "      <th>3</th>\n",
       "      <td>journal-article-10.2307_40836133</td>\n",
       "      <td>0</td>\n",
       "      <td>0</td>\n",
       "      <td>0</td>\n",
       "      <td>0</td>\n",
       "      <td>0</td>\n",
       "      <td>0</td>\n",
       "      <td>NaN</td>\n",
       "      <td>NaN</td>\n",
       "      <td>NaN</td>\n",
       "      <td>NaN</td>\n",
       "      <td>NaN</td>\n",
       "      <td>NaN</td>\n",
       "    </tr>\n",
       "    <tr>\n",
       "      <th>4</th>\n",
       "      <td>journal-article-10.2307_2579666</td>\n",
       "      <td>0</td>\n",
       "      <td>0</td>\n",
       "      <td>0</td>\n",
       "      <td>0</td>\n",
       "      <td>0</td>\n",
       "      <td>0</td>\n",
       "      <td>NaN</td>\n",
       "      <td>NaN</td>\n",
       "      <td>NaN</td>\n",
       "      <td>NaN</td>\n",
       "      <td>NaN</td>\n",
       "      <td>NaN</td>\n",
       "    </tr>\n",
       "  </tbody>\n",
       "</table>\n",
       "</div>"
      ],
      "text/plain": [
       "                         article_id cultural_author_count  \\\n",
       "0   journal-article-10.2307_2065002                     0   \n",
       "1   journal-article-10.2307_3380821                     0   \n",
       "2   journal-article-10.2307_2095822                     0   \n",
       "3  journal-article-10.2307_40836133                     0   \n",
       "4   journal-article-10.2307_2579666                     0   \n",
       "\n",
       "  demographic_author_count relational_author_count cultural_count3  \\\n",
       "0                        0                       0               0   \n",
       "1                        0                       0               0   \n",
       "2                        0                       0               0   \n",
       "3                        0                       0               0   \n",
       "4                        0                       0               0   \n",
       "\n",
       "  demographic_count3 relational_count3 cultural_count2 demographic_count2  \\\n",
       "0                  0                 0             NaN                NaN   \n",
       "1                  0                 0             NaN                NaN   \n",
       "2                  0                 0             NaN                NaN   \n",
       "3                  0                 0             NaN                NaN   \n",
       "4                  0                 0             NaN                NaN   \n",
       "\n",
       "  relational_count2 cultural_count1 demographic_count1 relational_count1  \n",
       "0               NaN             NaN                NaN               NaN  \n",
       "1               NaN             NaN                NaN               NaN  \n",
       "2               NaN             NaN                NaN               NaN  \n",
       "3               NaN             NaN                NaN               NaN  \n",
       "4               NaN             NaN                NaN               NaN  "
      ]
     },
     "execution_count": 15,
     "metadata": {},
     "output_type": "execute_result"
    }
   ],
   "source": [
    "counts_df = generate_ngram_counts(1, counts_df)\n",
    "counts_df.head()"
   ]
  },
  {
   "cell_type": "code",
   "execution_count": 16,
   "id": "59178eed",
   "metadata": {},
   "outputs": [
    {
     "data": {
      "text/plain": [
       "article_id                  journal-article-10.2307_2065002journal-article...\n",
       "cultural_author_count                                                   12839\n",
       "demographic_author_count                                                10344\n",
       "relational_author_count                                                 31182\n",
       "cultural_count3                                                             0\n",
       "demographic_count3                                                          0\n",
       "relational_count3                                                           0\n",
       "cultural_count2                                                           633\n",
       "demographic_count2                                                       2488\n",
       "relational_count2                                                        3591\n",
       "cultural_count1                                                         63307\n",
       "demographic_count1                                                      40319\n",
       "relational_count1                                                       68892\n",
       "dtype: object"
      ]
     },
     "execution_count": 16,
     "metadata": {},
     "output_type": "execute_result"
    }
   ],
   "source": [
    "counts_df.sum()"
   ]
  },
  {
   "cell_type": "markdown",
   "id": "25737edd",
   "metadata": {},
   "source": [
    "## Wrap-up + storage"
   ]
  },
  {
   "cell_type": "markdown",
   "id": "2ba8e8bf",
   "metadata": {},
   "source": [
    "Since the method above gives each article three separate rows--one for each ngram size (1, 2, and 3)--to save space let's now condense each article into one row using a `groupby()` in pandas."
   ]
  },
  {
   "cell_type": "code",
   "execution_count": 17,
   "id": "66ffb38a",
   "metadata": {},
   "outputs": [
    {
     "name": "stdout",
     "output_type": "stream",
     "text": [
      "(1500, 13)\n",
      "article_id                  500\n",
      "cultural_author_count        93\n",
      "demographic_author_count     78\n",
      "relational_author_count     158\n",
      "cultural_count3               1\n",
      "demographic_count3            1\n",
      "relational_count3             1\n",
      "cultural_count2              16\n",
      "demographic_count2           42\n",
      "relational_count2            54\n",
      "cultural_count1             240\n",
      "demographic_count1          178\n",
      "relational_count1           232\n",
      "dtype: int64\n"
     ]
    }
   ],
   "source": [
    "print(counts_df.shape) # number of rows, cols\n",
    "print(counts_df.nunique()) # number of rows vs number of unique"
   ]
  },
  {
   "cell_type": "code",
   "execution_count": 18,
   "id": "f21321c3",
   "metadata": {},
   "outputs": [
    {
     "data": {
      "text/plain": [
       "(500, 13)"
      ]
     },
     "execution_count": 18,
     "metadata": {},
     "output_type": "execute_result"
    }
   ],
   "source": [
    "counts_df = counts_df.groupby('article_id').sum().reset_index(drop = False) # collapse so one article = one row\n",
    "counts_df.shape"
   ]
  },
  {
   "cell_type": "markdown",
   "id": "a1451f62",
   "metadata": {},
   "source": [
    "We can now write our dataframe back to our csv files to later parse and use. Uncomment the below line to write back to the `citation_and_expanded_dict_count_may7.csv` file, or change the passed in file name to write to a different file."
   ]
  },
  {
   "cell_type": "code",
   "execution_count": 19,
   "id": "eeba99ce",
   "metadata": {},
   "outputs": [],
   "source": [
    "#counts_df.to_csv(f'citation_and_expanded_dict_count_{thisday}.csv', index=True)"
   ]
  }
 ],
 "metadata": {
  "kernelspec": {
   "display_name": "Python 3 (ipykernel)",
   "language": "python",
   "name": "python3"
  },
  "language_info": {
   "codemirror_mode": {
    "name": "ipython",
    "version": 3
   },
   "file_extension": ".py",
   "mimetype": "text/x-python",
   "name": "python",
   "nbconvert_exporter": "python",
   "pygments_lexer": "ipython3",
   "version": "3.9.6"
  }
 },
 "nbformat": 4,
 "nbformat_minor": 5
}
