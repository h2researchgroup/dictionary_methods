{
 "cells": [
  {
   "cell_type": "markdown",
   "metadata": {},
   "source": [
    "https://docs.scipy.org/doc/scipy-0.14.0/reference/generated/scipy.stats.pearsonr.html#scipy.stats.pearsonr\n",
    "https://docs.scipy.org/doc/scipy-0.14.0/reference/generated/scipy.stats.pointbiserialr.html \n",
    "\n",
    "The word/ngram counts (x) as well as the citation count (y) should each be normalized/divided by document length to create a 0-1 measure (very small for y!), and each correlation between citation # and predictor/count/score should be calculated separately (to avoid multicollinearity/messing up results).\n",
    "\n",
    "Visualization: heat map, with separate rows for each discipline and separate columns for each count/score. There would be one per dictionary and we could array them one on top of the other. So it would look something like this, but with 5 columns (word count, word2vec, doc2vec, GloVe, and InferSent)"
   ]
  },
  {
   "cell_type": "code",
   "execution_count": 1,
   "metadata": {},
   "outputs": [],
   "source": [
    "import pandas as pd\n",
    "from scipy import stats\n",
    "import seaborn as sns\n",
    "import matplotlib.pyplot as plt"
   ]
  },
  {
   "cell_type": "code",
   "execution_count": 2,
   "metadata": {},
   "outputs": [
    {
     "name": "stderr",
     "output_type": "stream",
     "text": [
      "/opt/conda/lib/python3.7/site-packages/IPython/core/interactiveshell.py:3049: DtypeWarning: Columns (12) have mixed types. Specify dtype option on import or set low_memory=False.\n",
      "  interactivity=interactivity, compiler=compiler, result=result)\n"
     ]
    },
    {
     "data": {
      "text/plain": [
       "Index(['article_id', 'culture_ngram_count', 'culture_ngram_count.1',\n",
       "       'relational_ngram_count', 'relational_ngram_count.1',\n",
       "       'demographic_ngram_count', 'demographic_ngram_count.1', 'word_count',\n",
       "       'cultural_author_count', 'demographic_author_count',\n",
       "       'relational_author_count', 'primary_subject', 'year',\n",
       "       'culture_author_count', 'edited_filename'],\n",
       "      dtype='object')"
      ]
     },
     "execution_count": 2,
     "metadata": {},
     "output_type": "execute_result"
    }
   ],
   "source": [
    "df = pd.read_csv('./counts_and_subject.csv')\n",
    "df[\"culture_author_count\"] = df[\"cultural_author_count\"]\n",
    "df[\"edited_filename\"] = df[\"article_id\"].apply(lambda x: x[16:])\n",
    "df.columns"
   ]
  },
  {
   "cell_type": "code",
   "execution_count": 3,
   "metadata": {},
   "outputs": [
    {
     "data": {
      "text/plain": [
       "Index(['Unnamed: 0', 'Unnamed: 0_x', 'Unnamed: 0.1', 'filename_x',\n",
       "       'edited_filename', 'culture', 'demographic', 'relational',\n",
       "       'Unnamed: 0_y', 'filename_y', 'text', 'relational_doc2vec_cosine',\n",
       "       'demographic_doc2vec_cosine', 'culture_doc2vec_cosine',\n",
       "       'relational_word2vec_cosine', 'demographic_word2vec_cosine',\n",
       "       'culture_word2vec_cosine', 'relational_glove_cosine',\n",
       "       'demographic_glove_cosine', 'culture_glove_cosine'],\n",
       "      dtype='object')"
      ]
     },
     "execution_count": 3,
     "metadata": {},
     "output_type": "execute_result"
    }
   ],
   "source": [
    "embeddings_df = pd.read_csv('../../models_storage/word_embeddings_data/text_with_cosine_scores_wdg_aug16.csv')\n",
    "embeddings_df.columns"
   ]
  },
  {
   "cell_type": "code",
   "execution_count": 4,
   "metadata": {},
   "outputs": [
    {
     "data": {
      "text/html": [
       "<div>\n",
       "<style scoped>\n",
       "    .dataframe tbody tr th:only-of-type {\n",
       "        vertical-align: middle;\n",
       "    }\n",
       "\n",
       "    .dataframe tbody tr th {\n",
       "        vertical-align: top;\n",
       "    }\n",
       "\n",
       "    .dataframe thead th {\n",
       "        text-align: right;\n",
       "    }\n",
       "</style>\n",
       "<table border=\"1\" class=\"dataframe\">\n",
       "  <thead>\n",
       "    <tr style=\"text-align: right;\">\n",
       "      <th></th>\n",
       "      <th>article_id</th>\n",
       "      <th>culture_ngram_count</th>\n",
       "      <th>culture_ngram_count.1</th>\n",
       "      <th>relational_ngram_count</th>\n",
       "      <th>relational_ngram_count.1</th>\n",
       "      <th>demographic_ngram_count</th>\n",
       "      <th>demographic_ngram_count.1</th>\n",
       "      <th>word_count</th>\n",
       "      <th>cultural_author_count</th>\n",
       "      <th>demographic_author_count</th>\n",
       "      <th>...</th>\n",
       "      <th>text</th>\n",
       "      <th>relational_doc2vec_cosine</th>\n",
       "      <th>demographic_doc2vec_cosine</th>\n",
       "      <th>culture_doc2vec_cosine</th>\n",
       "      <th>relational_word2vec_cosine</th>\n",
       "      <th>demographic_word2vec_cosine</th>\n",
       "      <th>culture_word2vec_cosine</th>\n",
       "      <th>relational_glove_cosine</th>\n",
       "      <th>demographic_glove_cosine</th>\n",
       "      <th>culture_glove_cosine</th>\n",
       "    </tr>\n",
       "  </thead>\n",
       "  <tbody>\n",
       "    <tr>\n",
       "      <th>0</th>\n",
       "      <td>journal-article-10.2307_2065002</td>\n",
       "      <td>9</td>\n",
       "      <td>3</td>\n",
       "      <td>11</td>\n",
       "      <td>5</td>\n",
       "      <td>10</td>\n",
       "      <td>7</td>\n",
       "      <td>3529</td>\n",
       "      <td>0</td>\n",
       "      <td>0</td>\n",
       "      <td>...</td>\n",
       "      <td>toward more cumulative inquiry e university m...</td>\n",
       "      <td>0.097787</td>\n",
       "      <td>0.014634</td>\n",
       "      <td>0.028077</td>\n",
       "      <td>0.666242</td>\n",
       "      <td>0.659942</td>\n",
       "      <td>0.644007</td>\n",
       "      <td>0.734771</td>\n",
       "      <td>0.692074</td>\n",
       "      <td>0.580011</td>\n",
       "    </tr>\n",
       "    <tr>\n",
       "      <th>1</th>\n",
       "      <td>journal-article-10.2307_3380821</td>\n",
       "      <td>10</td>\n",
       "      <td>6</td>\n",
       "      <td>27</td>\n",
       "      <td>7</td>\n",
       "      <td>7</td>\n",
       "      <td>5</td>\n",
       "      <td>5195</td>\n",
       "      <td>0</td>\n",
       "      <td>0</td>\n",
       "      <td>...</td>\n",
       "      <td>a jefferson county department health w duncm u...</td>\n",
       "      <td>0.012444</td>\n",
       "      <td>0.037296</td>\n",
       "      <td>0.008317</td>\n",
       "      <td>0.675870</td>\n",
       "      <td>0.610163</td>\n",
       "      <td>0.532780</td>\n",
       "      <td>0.699900</td>\n",
       "      <td>0.605508</td>\n",
       "      <td>0.448152</td>\n",
       "    </tr>\n",
       "    <tr>\n",
       "      <th>2</th>\n",
       "      <td>journal-article-10.2307_2095822</td>\n",
       "      <td>57</td>\n",
       "      <td>6</td>\n",
       "      <td>61</td>\n",
       "      <td>24</td>\n",
       "      <td>26</td>\n",
       "      <td>61</td>\n",
       "      <td>7100</td>\n",
       "      <td>0</td>\n",
       "      <td>0</td>\n",
       "      <td>...</td>\n",
       "      <td>society a model j university urbana-champaign ...</td>\n",
       "      <td>0.010615</td>\n",
       "      <td>0.080786</td>\n",
       "      <td>0.079067</td>\n",
       "      <td>0.688963</td>\n",
       "      <td>0.669807</td>\n",
       "      <td>0.646967</td>\n",
       "      <td>0.778960</td>\n",
       "      <td>0.756689</td>\n",
       "      <td>0.629216</td>\n",
       "    </tr>\n",
       "    <tr>\n",
       "      <th>3</th>\n",
       "      <td>journal-article-10.2307_2631839</td>\n",
       "      <td>2</td>\n",
       "      <td>0</td>\n",
       "      <td>4</td>\n",
       "      <td>0</td>\n",
       "      <td>0</td>\n",
       "      <td>0</td>\n",
       "      <td>315</td>\n",
       "      <td>0</td>\n",
       "      <td>0</td>\n",
       "      <td>...</td>\n",
       "      <td>vol  no   printed usa litigation a note  colle...</td>\n",
       "      <td>0.022005</td>\n",
       "      <td>0.033838</td>\n",
       "      <td>0.031417</td>\n",
       "      <td>0.662404</td>\n",
       "      <td>0.618887</td>\n",
       "      <td>0.537290</td>\n",
       "      <td>0.720018</td>\n",
       "      <td>0.644975</td>\n",
       "      <td>0.527974</td>\n",
       "    </tr>\n",
       "    <tr>\n",
       "      <th>4</th>\n",
       "      <td>journal-article-10.2307_40836133</td>\n",
       "      <td>74</td>\n",
       "      <td>52</td>\n",
       "      <td>91</td>\n",
       "      <td>28</td>\n",
       "      <td>30</td>\n",
       "      <td>7</td>\n",
       "      <td>7110</td>\n",
       "      <td>0</td>\n",
       "      <td>0</td>\n",
       "      <td>...</td>\n",
       "      <td>mir special issue  pp   mir management interna...</td>\n",
       "      <td>0.002650</td>\n",
       "      <td>0.035686</td>\n",
       "      <td>0.065617</td>\n",
       "      <td>0.784473</td>\n",
       "      <td>0.732319</td>\n",
       "      <td>0.678748</td>\n",
       "      <td>0.802714</td>\n",
       "      <td>0.738454</td>\n",
       "      <td>0.588695</td>\n",
       "    </tr>\n",
       "  </tbody>\n",
       "</table>\n",
       "<p>5 rows × 34 columns</p>\n",
       "</div>"
      ],
      "text/plain": [
       "                         article_id  culture_ngram_count  \\\n",
       "0   journal-article-10.2307_2065002                    9   \n",
       "1   journal-article-10.2307_3380821                   10   \n",
       "2   journal-article-10.2307_2095822                   57   \n",
       "3   journal-article-10.2307_2631839                    2   \n",
       "4  journal-article-10.2307_40836133                   74   \n",
       "\n",
       "   culture_ngram_count.1  relational_ngram_count  relational_ngram_count.1  \\\n",
       "0                      3                      11                         5   \n",
       "1                      6                      27                         7   \n",
       "2                      6                      61                        24   \n",
       "3                      0                       4                         0   \n",
       "4                     52                      91                        28   \n",
       "\n",
       "   demographic_ngram_count  demographic_ngram_count.1  word_count  \\\n",
       "0                       10                          7        3529   \n",
       "1                        7                          5        5195   \n",
       "2                       26                         61        7100   \n",
       "3                        0                          0         315   \n",
       "4                       30                          7        7110   \n",
       "\n",
       "   cultural_author_count  demographic_author_count  ...  \\\n",
       "0                      0                         0  ...   \n",
       "1                      0                         0  ...   \n",
       "2                      0                         0  ...   \n",
       "3                      0                         0  ...   \n",
       "4                      0                         0  ...   \n",
       "\n",
       "                                                text  \\\n",
       "0   toward more cumulative inquiry e university m...   \n",
       "1  a jefferson county department health w duncm u...   \n",
       "2  society a model j university urbana-champaign ...   \n",
       "3  vol  no   printed usa litigation a note  colle...   \n",
       "4  mir special issue  pp   mir management interna...   \n",
       "\n",
       "  relational_doc2vec_cosine demographic_doc2vec_cosine  \\\n",
       "0                  0.097787                   0.014634   \n",
       "1                  0.012444                   0.037296   \n",
       "2                  0.010615                   0.080786   \n",
       "3                  0.022005                   0.033838   \n",
       "4                  0.002650                   0.035686   \n",
       "\n",
       "   culture_doc2vec_cosine relational_word2vec_cosine  \\\n",
       "0                0.028077                   0.666242   \n",
       "1                0.008317                   0.675870   \n",
       "2                0.079067                   0.688963   \n",
       "3                0.031417                   0.662404   \n",
       "4                0.065617                   0.784473   \n",
       "\n",
       "   demographic_word2vec_cosine  culture_word2vec_cosine  \\\n",
       "0                     0.659942                 0.644007   \n",
       "1                     0.610163                 0.532780   \n",
       "2                     0.669807                 0.646967   \n",
       "3                     0.618887                 0.537290   \n",
       "4                     0.732319                 0.678748   \n",
       "\n",
       "   relational_glove_cosine demographic_glove_cosine  culture_glove_cosine  \n",
       "0                 0.734771                 0.692074              0.580011  \n",
       "1                 0.699900                 0.605508              0.448152  \n",
       "2                 0.778960                 0.756689              0.629216  \n",
       "3                 0.720018                 0.644975              0.527974  \n",
       "4                 0.802714                 0.738454              0.588695  \n",
       "\n",
       "[5 rows x 34 columns]"
      ]
     },
     "execution_count": 4,
     "metadata": {},
     "output_type": "execute_result"
    }
   ],
   "source": [
    "# Add cosine scores\n",
    "df = df.merge(embeddings_df, how='left', on='edited_filename')\n",
    "df.head()"
   ]
  },
  {
   "cell_type": "code",
   "execution_count": 5,
   "metadata": {},
   "outputs": [
    {
     "name": "stdout",
     "output_type": "stream",
     "text": [
      "69658\n",
      "69657\n"
     ]
    }
   ],
   "source": [
    "print(len(df))\n",
    "df = df.dropna()\n",
    "print(len(df))"
   ]
  },
  {
   "cell_type": "code",
   "execution_count": 6,
   "metadata": {},
   "outputs": [],
   "source": [
    "perspectives = [\"culture\", \"relational\", \"demographic\"]\n",
    "\n",
    "# Divide counts by word lengths\n",
    "def divide_by_length(pattern, new_pattern):\n",
    "    for p in perspectives:\n",
    "        header = pattern.format(p)\n",
    "        df[new_pattern.format(p)] = df[header] / df[\"word_count\"]"
   ]
  },
  {
   "cell_type": "code",
   "execution_count": 7,
   "metadata": {},
   "outputs": [],
   "source": [
    "divide_by_length(\"{}_ngram_count\", \"{}_ngram_ratio\")\n",
    "divide_by_length(\"{}_ngram_count.1\", \"{}_ngram_ratio_core\")\n",
    "divide_by_length(\"{}_author_count\", \"{}_author_ratio\")"
   ]
  },
  {
   "cell_type": "code",
   "execution_count": 8,
   "metadata": {},
   "outputs": [],
   "source": [
    "stats_labels = ['year', 'primary_subject']\n",
    "stats_labels += ['{}'.format(p) for p in perspectives]\n",
    "stats_labels += ['{}_word2vec_cosine'.format(p) for p in perspectives]\n",
    "stats_labels += ['{}_doc2vec_cosine'.format(p) for p in perspectives]\n",
    "stats_labels += ['{}_glove_cosine'.format(p) for p in perspectives]\n",
    "stats_labels += ['{}_ngram_ratio'.format(p) for p in perspectives]\n",
    "\n",
    "stats_df = df.loc[:, stats_labels]"
   ]
  },
  {
   "cell_type": "code",
   "execution_count": 9,
   "metadata": {},
   "outputs": [
    {
     "data": {
      "text/plain": [
       "Index(['year', 'primary_subject', 'InferSent: culture',\n",
       "       'InferSent: relational', 'InferSent: demographic', 'Word2Vec: culture',\n",
       "       'Word2Vec: relational', 'Word2Vec: demographic', 'Doc2Vec: culture',\n",
       "       'Doc2Vec: relational', 'Doc2Vec: demographic', 'GloVe: culture',\n",
       "       'GloVe: relational', 'GloVe: demographic', 'Word Count: culture',\n",
       "       'Word Count: relational', 'Word Count: demographic', 'Management/OB'],\n",
       "      dtype='object')"
      ]
     },
     "execution_count": 9,
     "metadata": {},
     "output_type": "execute_result"
    }
   ],
   "source": [
    "rename_dict = {}\n",
    "for p in perspectives:\n",
    "    rename_dict['{}'.format(p)] = \"InferSent: {}\".format(p)\n",
    "    rename_dict['{}_word2vec_cosine'.format(p)] = \"Word2Vec: {}\".format(p)\n",
    "    rename_dict['{}_doc2vec_cosine'.format(p)] = \"Doc2Vec: {}\".format(p)\n",
    "    rename_dict['{}_glove_cosine'.format(p)] = \"GloVe: {}\".format(p)\n",
    "    rename_dict['{}_ngram_ratio'.format(p)] = \"Word Count: {}\".format(p)\n",
    "\n",
    "def clean_year(s):\n",
    "    try:\n",
    "        return int(s) - 1970\n",
    "    except:\n",
    "        return int(s[:4]) - 1970\n",
    "\n",
    "def format_subject(s):\n",
    "    if s == 'Sociology':\n",
    "        return 0\n",
    "    elif s == 'Management & Organizational Behavior':\n",
    "        return 1\n",
    "    else:\n",
    "        print(s)\n",
    "    \n",
    "    \n",
    "stats_df = stats_df.rename(rename_dict, axis=1)\n",
    "stats_df['year'] = stats_df['year'].apply(clean_year)\n",
    "stats_df[\"Management/OB\"] = stats_df['primary_subject'].apply(format_subject)\n",
    "stats_df.columns"
   ]
  },
  {
   "cell_type": "code",
   "execution_count": 10,
   "metadata": {},
   "outputs": [],
   "source": [
    "stats_df = stats_df[['Management/OB', 'year', 'InferSent: culture',\n",
    "       'InferSent: relational', 'InferSent: demographic', 'Word2Vec: culture',\n",
    "       'Word2Vec: relational', 'Word2Vec: demographic', 'Doc2Vec: culture',\n",
    "       'Doc2Vec: relational', 'Doc2Vec: demographic', 'GloVe: culture',\n",
    "       'GloVe: relational', 'GloVe: demographic', 'Word Count: culture',\n",
    "       'Word Count: relational', 'Word Count: demographic']]"
   ]
  },
  {
   "cell_type": "code",
   "execution_count": 16,
   "metadata": {},
   "outputs": [],
   "source": [
    "def calculate_pvalues(df):\n",
    "    df = df.dropna()._get_numeric_data()\n",
    "    dfcols = pd.DataFrame(columns=df.columns)\n",
    "    pvalues = dfcols.transpose().join(dfcols, how='outer')\n",
    "    for r in df.columns:\n",
    "        for c in df.columns:\n",
    "            pvalues[r][c] = round(stats.pearsonr(df[r], df[c])[1], 4)\n",
    "    return pvalues\n",
    "\n",
    "calculate_pvalues(stats_df).to_csv('p_values.csv')"
   ]
  },
  {
   "cell_type": "code",
   "execution_count": null,
   "metadata": {},
   "outputs": [],
   "source": [
    "top_labels_dict = {\"Management/OB\": \"Mgt/OB\"}\n",
    "for p in perspectives:\n",
    "    top_labels_dict['InferSent: {}'.format(p)] = \"IS_{}\".format(p[0])\n",
    "    top_labels_dict[\"Word2Vec: {}\".format(p)] = \"w2v_{}\".format(p[0])\n",
    "    top_labels_dict['Doc2Vec: {}'.format(p)] = \"d2v_{}\".format(p[0])\n",
    "    top_labels_dict['GloVe: {}'.format(p)] = \"GloVe_{}\".format(p[0])\n",
    "    top_labels_dict['Word Count: {}'.format(p)] = \"wv_{}\".format(p[0])\n",
    "\n",
    "descriptive = stats_df.describe()\n",
    "descriptive = descriptive.drop([\"count\", \"25%\", \"75%\"])\n",
    "descriptive = descriptive.rename({\"50%\": \"median\"})\n",
    "descriptive = descriptive.rename(top_labels_dict, axis=1)\n",
    "\n",
    "print(descriptive.to_latex(float_format=lambda x: '%10.2f' % x))\n"
   ]
  },
  {
   "cell_type": "code",
   "execution_count": null,
   "metadata": {},
   "outputs": [],
   "source": [
    "correlations = stats_df.corr()\n"
   ]
  },
  {
   "cell_type": "code",
   "execution_count": null,
   "metadata": {
    "scrolled": false
   },
   "outputs": [],
   "source": [
    "correlations = correlations.where(pd.np.tril(pd.np.ones(correlations.shape), k=0).astype(bool), other='')\n",
    "print(correlations.to_latex(float_format=lambda x: '%10.2f' % x, header=False, na_rep=''))"
   ]
  },
  {
   "cell_type": "code",
   "execution_count": null,
   "metadata": {},
   "outputs": [],
   "source": [
    "print(descriptive.to_html(float_format=lambda x: '%10.2f' % x))"
   ]
  },
  {
   "cell_type": "code",
   "execution_count": null,
   "metadata": {},
   "outputs": [],
   "source": [
    "print(correlations.to_html(float_format=lambda x: '%10.2f' % x, header=False, na_rep=''))"
   ]
  },
  {
   "cell_type": "code",
   "execution_count": null,
   "metadata": {},
   "outputs": [],
   "source": [
    "def cell_entries(df, X_pattern, Y_pattern=\"{}_author_count\", binary=True):\n",
    "    results = []\n",
    "    for perspective in perspectives:\n",
    "        X = df[X_pattern.format(perspective)]\n",
    "        Y = df[\"{}_author_count\".format(perspective)]\n",
    "        if binary:\n",
    "            Y = Y.apply(lambda x: x>0)\n",
    "            results.append(stats.pointbiserialr(X, Y))\n",
    "        else:\n",
    "            results.append(stats.pearsonr(X, Y))\n",
    "    return results\n",
    "        "
   ]
  },
  {
   "cell_type": "code",
   "execution_count": null,
   "metadata": {},
   "outputs": [],
   "source": [
    "def draw_heatmaps(sociology_data, management_data, x_axis_labels): \n",
    "    for sociology_values, management_values, p in zip(sociology_data, management_data, perspectives):\n",
    "        p_values = [[x[1] for x in sociology_values], [x[1] for x in management_values]] \n",
    "        data = [[x[0] for x in sociology_values], [x[0] for x in management_values]] \n",
    "        y_axis_labels = [\"Sociology\", \"Management\"]\n",
    "\n",
    "        ax = sns.heatmap(data, vmin=0, vmax=1, annot=True, xticklabels=x_axis_labels, yticklabels=y_axis_labels)\n",
    "        ax.set(title=\"Correlation coefficients: {}\".format(p), xlabel='Method', ylabel='Discipline')\n",
    "        plt.show()\n",
    "        print(p_values)\n",
    "    "
   ]
  },
  {
   "cell_type": "code",
   "execution_count": null,
   "metadata": {},
   "outputs": [],
   "source": [
    "# ngrams, word2vec, GloVe\n",
    "# doc2vec, InferSent\n",
    "x_columns = [\"{}_ngram_ratio\", \"{}_word2vec_cosine\", \"{}_doc2vec_cosine\", \"{}_glove_cosine\", \"{}\"]\n",
    "x_labels = [\"word counts\", \"word2vec\", \"doc2vec\", 'GloVe', \"InferSent\"]\n",
    "\n",
    "sociology_data_by_perspective = list(zip(*[cell_entries(sociology_df, pattern) for pattern in x_columns]))\n",
    "management_data_by_perspective = list(zip(*[cell_entries(management_df, pattern) for pattern in x_columns]))\n",
    "\n",
    "draw_heatmaps(sociology_data_by_perspective, management_data_by_perspective, x_labels)"
   ]
  },
  {
   "cell_type": "code",
   "execution_count": null,
   "metadata": {},
   "outputs": [],
   "source": [
    "# ngrams, word2vec, GloVe\n",
    "# doc2vec, InferSent\n",
    "# Binary=False\n",
    "x_columns = [\"{}_ngram_ratio\", \"{}_word2vec_cosine\", \"{}_doc2vec_cosine\", \"{}_glove_cosine\", \"{}\"]\n",
    "x_labels = [\"word counts\", \"word2vec\", \"doc2vec\", 'GloVe', \"InferSent\"]\n",
    "\n",
    "sociology_data_by_perspective = list(zip(*[cell_entries(sociology_df, pattern, binary=False) for pattern in x_columns]))\n",
    "management_data_by_perspective = list(zip(*[cell_entries(management_df, pattern, binary=False) for pattern in x_columns]))\n",
    "\n",
    "draw_heatmaps(sociology_data_by_perspective, management_data_by_perspective, x_labels)"
   ]
  },
  {
   "cell_type": "code",
   "execution_count": null,
   "metadata": {},
   "outputs": [],
   "source": [
    "# Missing: journal-article-10.2307_41555234 ?"
   ]
  },
  {
   "cell_type": "code",
   "execution_count": null,
   "metadata": {},
   "outputs": [],
   "source": [
    "# ngrams, word2vec, GloVe\n",
    "\n",
    "x_columns = [\"{}_ngram_ratio\", \"{}_word2vec_cosine\", \"{}_glove_cosine\"]\n",
    "x_labels = [\"word counts\", \"word2vec\", 'GloVe']\n",
    "\n",
    "sociology_data_by_perspective = list(zip(*[cell_entries(sociology_df, pattern, binary=False) for pattern in x_columns]))\n",
    "management_data_by_perspective = list(zip(*[cell_entries(management_df, pattern, binary=False) for pattern in x_columns]))\n",
    "\n",
    "draw_heatmaps(sociology_data_by_perspective, management_data_by_perspective, x_labels)"
   ]
  },
  {
   "cell_type": "code",
   "execution_count": null,
   "metadata": {},
   "outputs": [],
   "source": [
    "from pprint import pprint\n",
    "\n",
    "culture = [[0.0, 0.0, 0.36913518824567426, 5.313799646534656e-92, 1.9287584364686678e-11], [3.116014230190429e-257, 5.4075376502e-313, 0.7003093478555227, 4.109894087852923e-184, 1.1270350075594382e-05]]\n",
    "relational = [[1.9232441544035583e-204, 5.532905628892022e-175, 0.3054166444469383, 2.1323565357620456e-59, 2.786248557262824e-12], [2.884954470804473e-125, 1.1495671830072461e-83, 0.8703868792197232, 2.3077755088312828e-58, 3.3454889981238377e-16]]\n",
    "demographic = [[0.0, 0.0, 0.9885402206621577, 3.2096252926170165e-69, 1.4718465272770002e-05], [0.0, 0.0, 0.2395178195976957, 2.470031463969842e-124, 0.0006245780224592454]]\n",
    "print(\"Culture\")\n",
    "pprint(culture)\n",
    "print(\"Relational\")\n",
    "pprint(relational)\n",
    "print(\"Demographic\")\n",
    "pprint(demographic)"
   ]
  },
  {
   "cell_type": "code",
   "execution_count": null,
   "metadata": {},
   "outputs": [],
   "source": [
    "culture = [[0.0, 1.745576531942312e-213, 0.36478768364038494, 2.430114143490269e-62, 4.96915476041219e-09], [7.54701063500108e-296, 2.1571749627490213e-198, 0.9615391422999973, 3.7518603436551587e-112, 2.9727910648863322e-06]]\n",
    "relational = [[1.9232441544035583e-204, 5.532905628892022e-175, 0.3054166444469383, 2.1323565357620456e-59, 2.786248557262824e-12], [2.884954470804473e-125, 1.1495671830072461e-83, 0.8703868792197232, 2.3077755088312828e-58, 3.3454889981238377e-16]]\n",
    "demographic = [[0.0, 2.783691510701036e-172, 0.5826043675265578, 1.134132601269464e-28, 0.0066636006395310995], [0.0, 1.2092581148611741e-206, 0.5961832285070008, 7.720266642198692e-66, 0.003216882882131651]]"
   ]
  },
  {
   "cell_type": "code",
   "execution_count": null,
   "metadata": {},
   "outputs": [],
   "source": [
    "print(\"Culture\")\n",
    "pprint(culture)\n",
    "print(\"Relational\")\n",
    "pprint(relational)\n",
    "print(\"Demographic\")\n",
    "pprint(demographic)"
   ]
  },
  {
   "cell_type": "code",
   "execution_count": null,
   "metadata": {},
   "outputs": [],
   "source": []
  }
 ],
 "metadata": {
  "kernelspec": {
   "display_name": "Python 3",
   "language": "python",
   "name": "python3"
  },
  "language_info": {
   "codemirror_mode": {
    "name": "ipython",
    "version": 3
   },
   "file_extension": ".py",
   "mimetype": "text/x-python",
   "name": "python",
   "nbconvert_exporter": "python",
   "pygments_lexer": "ipython3",
   "version": "3.7.3"
  }
 },
 "nbformat": 4,
 "nbformat_minor": 2
}
